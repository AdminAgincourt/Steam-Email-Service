{
 "cells": [
  {
   "cell_type": "code",
   "execution_count": 1,
   "id": "failing-attack",
   "metadata": {},
   "outputs": [
    {
     "name": "stdout",
     "output_type": "stream",
     "text": [
      "Delivered-To: rakshasbhuvan1763@gmail.com\n",
      "Received: by 2002:aa7:c5da:0:0:0:0:0 with SMTP id h26csp4568910eds;\n",
      "        Mon, 19 Jul 2021 16:47:59 -0700 (PDT)\n",
      "X-Received: by 2002:a05:6512:686:: with SMTP id t6mr19318726lfe.69.1626738479815;\n",
      "        Mon, 19 Jul 2021 16:47:59 -0700 (PDT)\n",
      "ARC-Seal: i=1; a=rsa-sha256; t=1626738479; cv=none;\n",
      "        d=google.com; s=arc-20160816;\n",
      "        b=UEBAStzFaBP2JzHLcYE+gjr0/s+1obeH8Y0VcvASQoZXsKtCxyM11eH4t8vslVc/eI\n",
      "         rJ5pXzHEXyz6IS34DM93GKTepGXiBSR6zHnVr2IST46q4eNSFAg/oFVIoKeVfoNsubHr\n",
      "         lxpgE7DK3o6uRCoE2dAIv6sMVDBqhBvfjdIHvXCZeUUHtuA/IAv5TbVeAhw7WCC1htKv\n",
      "         OWxDwWrZCfyPWdnXHILFODxV3er2hm3WGZicsiQps/wfiILwIECVwaVkJ48Atu6PSXz/\n",
      "         YykthVSgPWO17bU1V/6YBC3loiGDziRAekW3/yQFAaRiilWwQOP9SUothsFpFRskicd2\n",
      "         7hkg==\n",
      "ARC-Message-Signature: i=1; a=rsa-sha256; c=relaxed/relaxed; d=google.com; s=arc-20160816;\n",
      "        h=to:subject:message-id:date:from:in-reply-to:references:mime-version\n",
      "         :dkim-signature;\n",
      "        bh=VjYjhjAc5Jm20JfP39eRj0VfAkAc/SnrKw02yd+VVsM=;\n",
      "        b=HZfWiMvUuF2xSCzBawhRwXVFhFtTVI/Ed7+4N2wkTLlFD87zXluE2K8Wgc6bZXwcVF\n",
      "         BfOuPppPXxUONT9dyZMSEc3o98izOMQwanCwqFbok2E65WAPaw8jTVv6WRRRPWZ59/Vi\n",
      "         3ORDn7OqTY/fCeHRPaMeA2YaRVTfx5o+BmZ4jjQfVOqzxmE0R6hOHH5TODNFfySen4xl\n",
      "         gGMVd7c5P4TOc9SPX5iVrV0oRnEnCx2y3NKmWSQfvrADnE5nsRIsCO2A9o8HYW95L3GB\n",
      "         C2SYkSlbjE7zjDPk8zrXbyL53QEvxCm6Zh6o++rwPZ8BoR6oT786Crx3wasz0LoJ1jAs\n",
      "         rEaw==\n",
      "ARC-Authentication-Results: i=1; mx.google.com;\n",
      "       dkim=pass header.i=@gmail.com header.s=20161025 header.b=P7fVAaJP;\n",
      "       spf=pass (google.com: domain of kunforever16@gmail.com designates 209.85.220.41 as permitted sender) smtp.mailfrom=kunforever16@gmail.com;\n",
      "       dmarc=pass (p=NONE sp=QUARANTINE dis=NONE) header.from=gmail.com\n",
      "Return-Path: <kunforever16@gmail.com>\n",
      "Received: from mail-sor-f41.google.com (mail-sor-f41.google.com. [209.85.220.41])\n",
      "        by mx.google.com with SMTPS id k17sor3533170ljm.2.2021.07.19.16.47.59\n",
      "        for <rakshasbhuvan1763@gmail.com>\n",
      "        (Google Transport Security);\n",
      "        Mon, 19 Jul 2021 16:47:59 -0700 (PDT)\n",
      "Received-SPF: pass (google.com: domain of kunforever16@gmail.com designates 209.85.220.41 as permitted sender) client-ip=209.85.220.41;\n",
      "Authentication-Results: mx.google.com;\n",
      "       dkim=pass header.i=@gmail.com header.s=20161025 header.b=P7fVAaJP;\n",
      "       spf=pass (google.com: domain of kunforever16@gmail.com designates 209.85.220.41 as permitted sender) smtp.mailfrom=kunforever16@gmail.com;\n",
      "       dmarc=pass (p=NONE sp=QUARANTINE dis=NONE) header.from=gmail.com\n",
      "DKIM-Signature: v=1; a=rsa-sha256; c=relaxed/relaxed;\n",
      "        d=gmail.com; s=20161025;\n",
      "        h=mime-version:references:in-reply-to:from:date:message-id:subject:to;\n",
      "        bh=VjYjhjAc5Jm20JfP39eRj0VfAkAc/SnrKw02yd+VVsM=;\n",
      "        b=P7fVAaJP4rlkkYei/uz6JKyD+D+PSARUpLCjJ6S50Zi3YFrRTxynujezhd31Fr2K4y\n",
      "         TvF+J8u+Y36BQb6Sj1UvqDmM0owXCmpDJooVZV01lUO5gqd7T9yngs3pxwstHL0BZ8OU\n",
      "         ChN417QbnajCJcjbSkod2M5e699Uctx2qCHJl/HG5pUkUGdSih/CTGueaOc+TXcCnWlq\n",
      "         onEYXVRuWTLb2jF3Rq7bERc/N/D9p+AliWQB3LnpD1c5LARmpLS5KIjjdqSqTfxEaxl+\n",
      "         d/keBieymJNRKWZYOaq0YcG1YvxSBUiX1xzzHpwzMAmw0/hQ4FfePGNwqg61RFYSUuY1\n",
      "         UCSA==\n",
      "X-Google-DKIM-Signature: v=1; a=rsa-sha256; c=relaxed/relaxed;\n",
      "        d=1e100.net; s=20161025;\n",
      "        h=x-gm-message-state:mime-version:references:in-reply-to:from:date\n",
      "         :message-id:subject:to;\n",
      "        bh=VjYjhjAc5Jm20JfP39eRj0VfAkAc/SnrKw02yd+VVsM=;\n",
      "        b=gbYyrxB/IqlJJgjUtS3kh+QNmaLk0bQ3Xtclo7TOCxFtm5MmB0n4RfHBByb/HyDkCO\n",
      "         DTK6Jr4KHtlG+yfpgTgsVKfxRBD2N9uLHq9Bs0Ky9reJ9PO8yK9MdjCHBNokzL+G9k/L\n",
      "         JfJkQNjpRRlOs+hLJEVdvNkj2IBkHetLhj851Q5kT98qfibNYczszBrnUJ+dKSEJ53IG\n",
      "         PgZ5G3L4Or4Id9CaSWF9KzyN7f3HEAFLxBp9gl6QwhGStUeUE+T43R1WRz6Y2wHcrTzr\n",
      "         s4PyXZCDc8G1LZpZtC3e2TjBs5Sg0gYcTpsTymZDGj+HdiQln/CVHauIt9gzuxv03Ey0\n",
      "         MEVQ==\n",
      "X-Gm-Message-State: AOAM533MQqJ6EpuN4frQwxXUxCQTzyh5YO2WicrI8OEZjYkSzUi6ZSRN\n",
      "\tdYwDoicmv9OVkuTeGkVVvHeYKhLXXAWb77kTpGxJlBno\n",
      "X-Google-Smtp-Source: ABdhPJyDS5fuwD4Q6erBzVqflE6nJ70tn+41LwWah4S1oZdGgvLqEn4GIZGy6k6n85k54BsFAboCbF7x+2AS03fZHnc=\n",
      "X-Received: by 2002:a2e:934b:: with SMTP id m11mr24722540ljh.284.1626738479368;\n",
      " Mon, 19 Jul 2021 16:47:59 -0700 (PDT)\n",
      "MIME-Version: 1.0\n",
      "References: <E1lqzgZ-0000TU-JN@smtp-01-tuk1.steampowered.com> <CABEXmD8J9YTJ6_z3afuAC7R44_7NyY9kYR-VMzbr_LJJBpMppA@mail.gmail.com>\n",
      "In-Reply-To: <CABEXmD8J9YTJ6_z3afuAC7R44_7NyY9kYR-VMzbr_LJJBpMppA@mail.gmail.com>\n",
      "From: Additya Dharangaonkar <kunforever16@gmail.com>\n",
      "Date: Mon, 19 Jul 2021 19:47:48 -0400\n",
      "Message-ID: <CABEXmD8MgMywYNV9PDiyxjyQ6aRoG5fz7tHxpELeyp_AdAjMiA@mail.gmail.com>\n",
      "Subject: Fwd: Your Steam account: Access from new computer\n",
      "To: rakshasbhuvan1763@gmail.com\n",
      "Content-Type: multipart/alternative; boundary=\"000000000000348e0c05c78291dc\"\n",
      "\n",
      "--000000000000348e0c05c78291dc\n",
      "Content-Type: text/plain; charset=\"UTF-8\"\n",
      "Content-Transfer-Encoding: quoted-printable\n",
      "\n",
      "---------- Forwarded message ---------\n",
      "From: Additya Dharangaonkar <kunforever16@gmail.com>\n",
      "Date: Mon, Jul 19, 2021 at 6:38 PM\n",
      "Subject: Fwd: Your Steam account: Access from new computer\n",
      "To: Additya Dharangaonkar <kunforever16@gmail.com>\n",
      "\n",
      "\n",
      "\n",
      "\n",
      "---------- Forwarded message ---------\n",
      "From: Steam Support <noreply@steampowered.com>\n",
      "Date: Wed, Jun 9, 2021 at 11:00 AM\n",
      "Subject: Your Steam account: Access from new computer\n",
      "To: <kunforever16@gmail.com>\n",
      "\n",
      "\n",
      "[image: Steam] <https://store.steampowered.com/>\n",
      "Dear kunforever16,\n",
      "Here is the Steam Guard code you need to login to account kunforever16:\n",
      "YTWFB\n",
      "This email was generated because of a login attempt from a web or mobile\n",
      "device located at 103.51.139.17 (IN).\n",
      "<https://steamcommunity.com/actions/ReportSuspiciousLogin?stoken=3D6ae96a9b=\n",
      "8ecd3a39c4c25ffbf2c544ddc40298cb5caac5b8e3f4fa6f16c80c175bf912eab2be4f115db=\n",
      "c0a2fab00c37cdf269129832b75dc58a435202318ca679309c78666a3f8acc987c688a85aab=\n",
      "2e6510621cf966ab4f8af9e7d5388eb8b3>\n",
      "The login attempt included your correct account name and password.\n",
      "\n",
      "The Steam Guard code is required to complete the login. No one can access\n",
      "your account without also accessing this email.\n",
      "\n",
      "If you are not attempting to log in then please change your Steam password,\n",
      "and consider changing your email password as well to ensure your account\n",
      "security.\n",
      "Cheers,\n",
      "The Steam Team\n",
      "This notification has been sent to the email address associated with your\n",
      "Steam account.\n",
      "\n",
      "This email message was auto-generated. Please do not respond. If you need\n",
      "additional help, please visit Steam Support.\n",
      "https://help.steampowered.com\n",
      "<https://store.steampowered.com/>\n",
      "To download the Steam desktop client and learn more about Steam, please\n",
      "visit About Steam.\n",
      "\n",
      "*About Steam* <https://store.steampowered.com/about/>\n",
      "<https://www.valvesoftware.com/en/>\n",
      "*=C2=A9 Valve Corporation*\n",
      "*PO Box 1688 Bellevue, WA 98009*\n",
      "\n",
      "All rights reserved. All trademarks are property of their respective owners\n",
      "in the US and other countries. Trouble viewing this message? Click here.\n",
      "<https://store.steampowered.com/email/codefornewcomputerwithiplocwarning?sp=\n",
      "arams=3DeJyFUl1P2zAU_SuoEm9TG9ux4yBNW2F8daVilFE69eXmxm6spnGwHViZ9t_ndH0AadL=\n",
      "e7HPOPTr349eghq7BSrmwa9XgZJAMPgycgnob3-vaFlBHoHW27DA0sO0l86BgG1Hfta11QW3B1B=\n",
      "E-fD_7nm7ti3KqHKJ9o_Qm9PVVCK0_WY1Wo0rV7fAf-oOpV03oAsYSIiijPJEJ690UOhXQlr3Z8=\n",
      "n5xcdqD6wOwT3d02YErj_ZQjF_DTrlD-k3XaOvUs3JE7Hvtk7WV8VVtms27ePtkMdG2a0zY9dlW=\n",
      "I8BgbONXo7t94bzzrUFjOz-1a9N88sFuVPNRgMoF5IVUWDJgOaZIudaFpsjTtCwxTWguseAIgDz=\n",
      "KmE41CE0EygRJxgudE6qgoIVKNSG8LDABqqFIEmQZlpqKKMglo0XGS-QSUsZpQhmRCCLLWZJjJo=\n",
      "UQwLQExFxmKKQEySGaKsFJIihBnUdFkUaJzlVWcialKmTRT7nfTddAFyrrzKsqo4ny_v_rW41ez=\n",
      "Gsc_mp0FenvbxzeTah7mn59mqY_Nxom17NQL-rGjlsaxOLSLD1tMVtW2_N2fjY_P5up2Tx5-nGf=\n",
      "TOzDcrquyNoLc0wv3PPu9uFxLC6z-ZqH8WbxOB5PJt9urunz7NZcvb5c7RIi7u7Wx-xL7Mi0UJb=\n",
      "ubxMkYUNOhoTlQ5JFDm3XBLc73Mj1rL-oAEEdgBuowIGvgoNeHK_hQJxa48ENfv8BEB8Xug>\n",
      "\n",
      "--000000000000348e0c05c78291dc\n",
      "Content-Type: text/html; charset=\"UTF-8\"\n",
      "Content-Transfer-Encoding: quoted-printable\n",
      "\n",
      "<div dir=3D\"ltr\"><br><br><div class=3D\"gmail_quote\"><div dir=3D\"ltr\" class=\n",
      "=3D\"gmail_attr\">---------- Forwarded message ---------<br>From: <strong cla=\n",
      "ss=3D\"gmail_sendername\" dir=3D\"auto\">Additya Dharangaonkar</strong> <span d=\n",
      "ir=3D\"auto\">&lt;<a href=3D\"mailto:kunforever16@gmail.com\">kunforever16@gmai=\n",
      "l.com</a>&gt;</span><br>Date: Mon, Jul 19, 2021 at 6:38 PM<br>Subject: Fwd:=\n",
      " Your Steam account: Access from new computer<br>To: Additya Dharangaonkar =\n",
      "&lt;<a href=3D\"mailto:kunforever16@gmail.com\">kunforever16@gmail.com</a>&gt=\n",
      ";<br></div><br><br><div dir=3D\"ltr\"><br><br><div class=3D\"gmail_quote\"><div=\n",
      " dir=3D\"ltr\" class=3D\"gmail_attr\">---------- Forwarded message ---------<br=\n",
      ">From: <strong class=3D\"gmail_sendername\" dir=3D\"auto\">Steam Support</stron=\n",
      "g> <span dir=3D\"auto\">&lt;<a href=3D\"mailto:noreply@steampowered.com\" targe=\n",
      "t=3D\"_blank\">noreply@steampowered.com</a>&gt;</span><br>Date: Wed, Jun 9, 2=\n",
      "021 at 11:00 AM<br>Subject: Your Steam account: Access from new computer<br=\n",
      ">To:  &lt;<a href=3D\"mailto:kunforever16@gmail.com\" target=3D\"_blank\">kunfo=\n",
      "rever16@gmail.com</a>&gt;<br></div><br><br><u></u>\n",
      "\n",
      "\n",
      "   =20\n",
      "   =20\n",
      "   =20\n",
      "   =20\n",
      "   =20\n",
      "   =20\n",
      "   =20\n",
      "   =20\n",
      "   =20\n",
      "   =20\n",
      "\n",
      "   =20\n",
      "   =20\n",
      "   =20\n",
      "\n",
      "   =20\n",
      "\n",
      "\n",
      "\n",
      "<div style=3D\"padding:0!important;margin:0 auto!important;display:block!imp=\n",
      "ortant;min-width:100%!important;width:100%!important;background:#ffffff\">\n",
      "<center>\n",
      "    <table width=3D\"100%\" border=3D\"0\" cellspacing=3D\"0\" cellpadding=3D\"0\" =\n",
      "style=3D\"margin:0;padding:0;width:100%;height:100%\" bgcolor=3D\"#ffffff\">\n",
      "        <tbody><tr>\n",
      "            <td style=3D\"margin:0;padding:0;width:100%;height:100%\" align=\n",
      "=3D\"center\" valign=3D\"top\">\n",
      "                <table width=3D\"775\" border=3D\"0\" cellspacing=3D\"0\" cellpad=\n",
      "ding=3D\"0\">\n",
      "                    <tbody><tr>\n",
      "                        <td style=3D\"width:775px;min-width:775px;font-size:=\n",
      "0pt;line-height:0pt;padding:0;margin:0;font-weight:normal\">\n",
      "                            <table width=3D\"100%\" border=3D\"0\" cellspacing=\n",
      "=3D\"0\" cellpadding=3D\"0\">\n",
      "                               =20\n",
      "                                <tbody><tr>\n",
      "                                    <td bgcolor=3D\"#212429\" style=3D\"paddin=\n",
      "g:80px\">\n",
      "                                        <table width=3D\"100%\" border=3D\"0\" =\n",
      "cellspacing=3D\"0\" cellpadding=3D\"0\">\n",
      "\n",
      "                                           =20\n",
      "                                            <tbody><tr>\n",
      "                                                <td style=3D\"font-size:0pt;=\n",
      "line-height:0pt;text-align:left;padding-bottom:45px\">\n",
      "                                                    <a href=3D\"https://stor=\n",
      "e.steampowered.com/\" target=3D\"_blank\">\n",
      "                                                        <img src=3D\"https:/=\n",
      "/store.cloudflare.steamstatic.com/public/shared/images/email/logo.png\" widt=\n",
      "h=3D\"615\" height=3D\"88\" border=3D\"0\" alt=3D\"Steam\">\n",
      "                                                    </a>\n",
      "\n",
      "                                                </td>\n",
      "                                            </tr>\n",
      "                                           =20\n",
      "\n",
      "                                           =20\n",
      "                                            <tr>\n",
      "                                                <td>\n",
      "\n",
      "\t\t\t<table width=3D\"100%\" border=3D\"0\" cellspacing=3D\"0\" cellpadding=3D\"0\">\n",
      "\t\t\t\t<tbody><tr>\n",
      "\t\t\t\t\t<td style=3D\"font-size:36px;line-height:42px;font-family:&#39;Motiva S=\n",
      "ans&#39;,Helvetica,Arial,sans-serif;text-align:left;padding-bottom:30px;col=\n",
      "or:#bfbfbf;font-weight:bold\">Dear kunforever16,</td>\n",
      "\t\t\t\t</tr>\n",
      "\t\t\t</tbody></table>\n",
      "\t\t\t\t\t\t<table width=3D\"100%\" border=3D\"0\" cellspacing=3D\"0\" cellpadding=3D\"0=\n",
      "\">\n",
      "\t\t\t\t<tbody><tr>\n",
      "\t\t\t\t\t<td style=3D\"font-size:18px;line-height:25px;font-family:&#39;Motiva S=\n",
      "ans&#39;,Helvetica,Arial,sans-serif;text-align:left;color:#dbdbdb;padding-b=\n",
      "ottom:30px\">Here is the Steam Guard code you need to login to account kunfo=\n",
      "rever16:</td>\n",
      "\t\t\t\t</tr>\n",
      "\t\t\t</tbody></table>\n",
      "\t\t\t\t\t\t<table width=3D\"100%\" border=3D\"0\" cellspacing=3D\"0\" cellpadding=3D\"0=\n",
      "\">\n",
      "\t\t\t\t<tbody><tr>\n",
      "\t\t\t\t\t<td style=3D\"padding-bottom:70px\">\n",
      "\t\t\t\t\t\t<table width=3D\"100%\" border=3D\"0\" cellspacing=3D\"0\" cellpadding=3D\"0=\n",
      "\" bgcolor=3D\"#17191c\">\n",
      "\t\t\t\t\t\t\t<tbody><tr>\n",
      "\t\t\t\t\t\t\t\t<td style=3D\"padding-top:30px;padding-bottom:30px;padding-left:56px=\n",
      ";padding-right:56px\">\n",
      "\t\t\t\t\t\t\t\t\t<table width=3D\"100%\" border=3D\"0\" cellspacing=3D\"0\" cellpadding=\n",
      "=3D\"0\">\n",
      "\t\t\t\t\t\t\t\t\t\t<tbody><tr>\n",
      "\t\t\t\t\t\t\t\t\t\t\t<td style=3D\"font-size:48px;line-height:52px;font-family:&#39;Mo=\n",
      "tiva Sans&#39;,Helvetica,Arial,sans-serif;color:#3a9aed;font-weight:bold;te=\n",
      "xt-align:center\">\n",
      "\t\t\t\t\t\t\t\t\t\t\t\tYTWFB\t\t\t\t\t\t\t\t\t\t\t</td>\n",
      "\t\t\t\t\t\t\t\t\t\t</tr>\n",
      "\t\t\t\t\t\t\t\t\t</tbody></table>\n",
      "\t\t\t\t\t\t\t\t</td>\n",
      "\t\t\t\t\t\t\t</tr>\n",
      "\t\t\t\t\t\t</tbody></table>\n",
      "\t\t\t\t\t</td>\n",
      "\t\t\t\t</tr>\n",
      "\t\t\t</tbody></table>\n",
      "\t\t\t\t\t\t<table width=3D\"100%\" border=3D\"0\" cellspacing=3D\"0\" cellpadding=3D\"0=\n",
      "\">\n",
      "\t\t\t\t<tbody><tr>\n",
      "\t\t\t\t\t<td style=3D\"font-size:18px;line-height:25px;font-family:&#39;Motiva S=\n",
      "ans&#39;,Helvetica,Arial,sans-serif;text-align:left;color:#dbdbdb;padding-b=\n",
      "ottom:30px\">This email was generated because of a login attempt from a web =\n",
      "or mobile device <a style=3D\"color:#c6d4df\" href=3D\"https://steamcommunity.=\n",
      "com/actions/ReportSuspiciousLogin?stoken=3D6ae96a9b8ecd3a39c4c25ffbf2c544dd=\n",
      "c40298cb5caac5b8e3f4fa6f16c80c175bf912eab2be4f115dbc0a2fab00c37cdf269129832=\n",
      "b75dc58a435202318ca679309c78666a3f8acc987c688a85aab2e6510621cf966ab4f8af9e7=\n",
      "d5388eb8b3\" target=3D\"_blank\">located at 103.51.139.17 (IN).</a>  The login=\n",
      " attempt included your correct account name and password.<br><br>\n",
      "The Steam Guard code is required to complete the login.  <span style=3D\"col=\n",
      "or:#ffffff;font-weight:bold\">No one can access your account without also ac=\n",
      "cessing this email.</span><br><br>\n",
      "<span style=3D\"color:#ffffff;font-weight:bold\">If you are not attempting to=\n",
      " log in</span> then please change your Steam password, and consider changin=\n",
      "g your email password as well to ensure your account security.</td>\n",
      "\t\t\t\t</tr>\n",
      "\t\t\t</tbody></table>\n",
      "\t\t\t            <table width=3D\"100%\" border=3D\"0\" cellspacing=3D\"0\" cellpad=\n",
      "ding=3D\"0\">\n",
      "                <tbody><tr>\n",
      "                    <td style=3D\"font-size:18px;line-height:25px;font-famil=\n",
      "y:&#39;Motiva Sans&#39;,Helvetica,Arial,sans-serif;text-align:left;color:#3=\n",
      "a9aed;padding-bottom:40px\"></td>\n",
      "                </tr>\n",
      "            </tbody></table>\n",
      "           =20\n",
      "                                                                           =\n",
      "                    =20\n",
      "                                                <table width=3D\"100%\" borde=\n",
      "r=3D\"0\" cellspacing=3D\"0\" cellpadding=3D\"0\">\n",
      "                                                    <tbody><tr>\n",
      "                                                        <td style=3D\"paddin=\n",
      "g-top:30px\">\n",
      "                                                            <table width=3D=\n",
      "\"100%\" border=3D\"0\" cellspacing=3D\"0\" cellpadding=3D\"0\">\n",
      "                                                                <tbody><tr>\n",
      "                                                                    <td wid=\n",
      "th=3D\"3\" bgcolor=3D\"#3a9aed\" style=3D\"font-size:0pt;line-height:0pt;text-al=\n",
      "ign:left\"></td>\n",
      "                                                                    <td wid=\n",
      "th=3D\"37\" style=3D\"font-size:0pt;line-height:0pt;text-align:left\"></td>\n",
      "                                                                    <td>\n",
      "                                                                        <ta=\n",
      "ble width=3D\"100%\" border=3D\"0\" cellspacing=3D\"0\" cellpadding=3D\"0\">\n",
      "                                                                           =\n",
      " <tbody><tr>\n",
      "                                                                           =\n",
      "                                                                           =\n",
      "              <td style=3D\"font-size:16px;line-height:22px;font-family:&#39=\n",
      ";Motiva Sans&#39;,Helvetica,Arial,sans-serif;text-align:left;padding-top:20=\n",
      "px;padding-bottom:20px;color:#f1f1f1\">\n",
      "                                                                           =\n",
      "             Cheers,<br>\n",
      "The Steam Team                                                             =\n",
      "                       </td>\n",
      "                                                                           =\n",
      "                                                                           =\n",
      "      </tr>\n",
      "                                                                        </t=\n",
      "body></table>\n",
      "                                                                    </td>\n",
      "                                                                </tr>\n",
      "                                                            </tbody></table=\n",
      ">\n",
      "                                                        </td>\n",
      "                                                    </tr>\n",
      "                                                </tbody></table>\n",
      "                                               =20\n",
      "                                               =20\n",
      "                                                </td>\n",
      "                                            </tr>\n",
      "\n",
      "                                        </tbody></table>\n",
      "                                    </td>\n",
      "                                </tr>\n",
      "                               =20\n",
      "\n",
      "                               =20\n",
      "                                <tr>\n",
      "                                    <td style=3D\"padding-top:60px;padding-b=\n",
      "ottom:60px;padding-left:90px;padding-right:90px\">\n",
      "                                        <table width=3D\"100%\" border=3D\"0\" =\n",
      "cellspacing=3D\"0\" cellpadding=3D\"0\">\n",
      "\n",
      "                                                                           =\n",
      "             <tbody><tr>\n",
      "                                                <td style=3D\"font-size:18px=\n",
      ";line-height:25px;color:#000001;font-family:&#39;Motiva Sans&#39;,Helvetica=\n",
      ",Arial,sans-serif;text-align:left;padding-bottom:60px\">\n",
      "\t\t\t                                        This notification has been sent =\n",
      "to the email address associated with your Steam account.                   =\n",
      "                                 <br><br>\n",
      "\t\t\t                                        This email message was auto-gene=\n",
      "rated. Please do not respond. If you need additional help, please visit Ste=\n",
      "am Support.                                                </td>\n",
      "                                            </tr>\n",
      "                                           =20\n",
      "                                                                           =\n",
      "            =20\n",
      "                                                                           =\n",
      "             <tr>\n",
      "                                            <td style=3D\"padding-bottom:60p=\n",
      "x\">\n",
      "                                                <table width=3D\"100%\" borde=\n",
      "r=3D\"0\" cellspacing=3D\"0\" cellpadding=3D\"0\">\n",
      "                                                    <tbody><tr>\n",
      "                                                        <th width=3D\"270\" s=\n",
      "tyle=3D\"font-size:0pt;line-height:0pt;padding:0;margin:0;font-weight:normal=\n",
      "\">\n",
      "                                                            <table width=3D=\n",
      "\"100%\" border=3D\"0\" cellspacing=3D\"0\" cellpadding=3D\"0\">\n",
      "                                                                <tbody><tr>\n",
      "                                                                    <td sty=\n",
      "le=3D\"font-size:18px;line-height:25px;color:#000001;font-family:&#39;Motiva=\n",
      " Sans&#39;,Helvetica,Arial,sans-serif;text-align:left\">\n",
      "                                                                        <a =\n",
      "href=3D\"https://help.steampowered.com\" style=3D\"text-decoration:underline;c=\n",
      "olor:#000001\" target=3D\"_blank\">\n",
      "                                                                           =\n",
      " <span style=3D\"text-decoration:underline;color:#000001\">https://help.steam=\n",
      "powered.com</span>\n",
      "                                                                        </a=\n",
      ">\n",
      "                                                                    </td>\n",
      "                                                                </tr>\n",
      "                                                            </tbody></table=\n",
      ">\n",
      "                                                        </th>\n",
      "                                                                           =\n",
      "                                 </tr>\n",
      "                                                </tbody></table>\n",
      "                                            </td>\n",
      "                                            </tr>\n",
      "                                           =20\n",
      "\n",
      "                                           =20\n",
      "                                                                           =\n",
      "                 <tr>\n",
      "                                                    <td style=3D\"padding-bo=\n",
      "ttom:50px\">\n",
      "                                                        <table width=3D\"100=\n",
      "%\" border=3D\"0\" cellspacing=3D\"0\" cellpadding=3D\"0\">\n",
      "                                                            <tbody><tr>\n",
      "                                                                <th width=\n",
      "=3D\"270\" valign=3D\"top\" style=3D\"font-size:0pt;line-height:0pt;padding:0;ma=\n",
      "rgin:0;font-weight:normal;vertical-align:top\">\n",
      "                                                                    <table =\n",
      "width=3D\"100%\" border=3D\"0\" cellspacing=3D\"0\" cellpadding=3D\"0\">\n",
      "                                                                        <tb=\n",
      "ody><tr>\n",
      "                                                                           =\n",
      " <td style=3D\"font-size:0pt;line-height:0pt;text-align:left\">\n",
      "                                                                           =\n",
      "     <a href=3D\"https://store.steampowered.com/\" target=3D\"_blank\"><img src=\n",
      "=3D\"https://store.cloudflare.steamstatic.com/public/shared/images/email/log=\n",
      "o_footer.png\" width=3D\"165\" height=3D\"50\" border=3D\"0\" alt=3D\"\"></a>\n",
      "                                                                           =\n",
      " </td>\n",
      "                                                                        </t=\n",
      "r>\n",
      "                                                                    </tbody=\n",
      "></table>\n",
      "                                                                </th>\n",
      "                                                                <th width=\n",
      "=3D\"15\" style=3D\"font-size:0pt;line-height:0pt;padding:0;margin:0;font-weig=\n",
      "ht:normal;vertical-align:top\"></th>\n",
      "                                                                <th style=\n",
      "=3D\"font-size:0pt;line-height:0pt;padding:0;margin:0;font-weight:normal\">\n",
      "                                                                    <table =\n",
      "width=3D\"100%\" border=3D\"0\" cellspacing=3D\"0\" cellpadding=3D\"0\">\n",
      "                                                                           =\n",
      "                                                                         <t=\n",
      "body><tr>\n",
      "                                                                           =\n",
      "     <td style=3D\"font-size:12px;line-height:18px;color:#000001;font-family=\n",
      ":&#39;Motiva Sans&#39;,Helvetica,Arial,sans-serif;text-align:left\">\n",
      "                                                                           =\n",
      "                                                                           =\n",
      "                      To download the Steam desktop client and learn more a=\n",
      "bout Steam, please visit About Steam.                                      =\n",
      "                                                  <br><br>\n",
      "                                                                           =\n",
      "             <a href=3D\"https://store.steampowered.com/about/\" style=3D\"tex=\n",
      "t-decoration:underline;color:#000001\" target=3D\"_blank\">\n",
      "                                                                           =\n",
      "                 <span style=3D\"text-decoration:underline;color:#000001\"><s=\n",
      "trong>About Steam</strong>\n",
      "                                                                           =\n",
      "                 </span>\n",
      "                                                                           =\n",
      "             </a>\n",
      "                                                                           =\n",
      "                                                                           =\n",
      "              </td>\n",
      "                                                                           =\n",
      " </tr>\n",
      "                                                                           =\n",
      "                                                                 </tbody></=\n",
      "table>\n",
      "                                                                </th>\n",
      "                                                            </tr>\n",
      "                                                        </tbody></table>\n",
      "                                                    </td>\n",
      "                                                </tr>\n",
      "\n",
      "                                           =20\n",
      "\n",
      "                                           =20\n",
      "                                            <tr>\n",
      "                                                <td>\n",
      "                                                    <table width=3D\"100%\" b=\n",
      "order=3D\"0\" cellspacing=3D\"0\" cellpadding=3D\"0\">\n",
      "                                                        <tbody><tr>\n",
      "                                                            <th valign=3D\"t=\n",
      "op\" width=3D\"270\" style=3D\"font-size:0pt;line-height:0pt;padding:0;margin:0=\n",
      ";font-weight:normal;vertical-align:top\">\n",
      "                                                                <table widt=\n",
      "h=3D\"100%\" border=3D\"0\" cellspacing=3D\"0\" cellpadding=3D\"0\">\n",
      "                                                                    <tbody>=\n",
      "<tr>\n",
      "                                                                        <td=\n",
      " style=3D\"font-size:0pt;line-height:0pt;text-align:left\">\n",
      "                                                                           =\n",
      " <a href=3D\"https://www.valvesoftware.com/en/\" target=3D\"_blank\">\n",
      "                                                                           =\n",
      "                                                                           =\n",
      "          <img src=3D\"https://store.cloudflare.steamstatic.com/public/share=\n",
      "d/images/email/logo_valve.jpg\" width=3D\"165\" height=3D\"48\" border=3D\"0\" alt=\n",
      "=3D\"\">\n",
      "                                                                           =\n",
      "                                                                           =\n",
      "      </a>\n",
      "                                                                        </t=\n",
      "d>\n",
      "                                                                    </tr>\n",
      "                                                                </tbody></t=\n",
      "able>\n",
      "                                                            </th>\n",
      "                                                            <th valign=3D\"t=\n",
      "op\" width=3D\"15\" style=3D\"font-size:0pt;line-height:0pt;padding:0;margin:0;=\n",
      "font-weight:normal;vertical-align:top\"></th>\n",
      "                                                            <th valign=3D\"t=\n",
      "op\" style=3D\"font-size:0pt;line-height:0pt;padding:0;margin:0;font-weight:n=\n",
      "ormal;vertical-align:top\">\n",
      "                                                                <table widt=\n",
      "h=3D\"100%\" border=3D\"0\" cellspacing=3D\"0\" cellpadding=3D\"0\">\n",
      "                                                                    <tbody>=\n",
      "<tr>\n",
      "                                                                        <td=\n",
      " style=3D\"font-size:12px;line-height:18px;color:#000001;font-family:&#39;Mo=\n",
      "tiva Sans&#39;,Helvetica,Arial,sans-serif;text-align:left;padding-bottom:30=\n",
      "px\">\n",
      "\t                                                                          =\n",
      "                                                                           =\n",
      "   <strong>=C2=A9 Valve Corporation</strong>\n",
      "                                                                           =\n",
      "     <br>\n",
      "                                                                           =\n",
      "     <strong>PO Box 1688 Bellevue, WA 98009</strong>\n",
      "                                                                           =\n",
      "     <br><br>\n",
      "\t\t                                                                        A=\n",
      "ll rights reserved. All trademarks are property of their respective owners =\n",
      "in the US and other countries.\t                                            =\n",
      "                                                                           =\n",
      "                         </td>\n",
      "                                                                    </tr>\n",
      "                                                                   =20\n",
      "                                                                </tbody></t=\n",
      "able>\n",
      "                                                            </th>\n",
      "                                                        </tr>\n",
      "                                                    </tbody></table>\n",
      "                                                </td>\n",
      "                                            </tr>\n",
      "                                        </tbody></table>\n",
      "                                    </td>\n",
      "                                </tr>\n",
      "                           =20\n",
      "                            </tbody></table>\n",
      "                        </td>\n",
      "                    </tr>\n",
      "                </tbody></table>\n",
      "            </td>\n",
      "        </tr>\n",
      "    </tbody></table>\n",
      "</center>\n",
      "\n",
      "    <center style=3D\"font-family:&#39;Motiva Sans&#39;,Helvetica,Arial,sans=\n",
      "-serif;color:#000000;font-size:11px;margin-bottom:4px\">\n",
      "        Trouble viewing this message?        <a href=3D\"https://store.steam=\n",
      "powered.com/email/codefornewcomputerwithiplocwarning?sparams=3DeJyFUl1P2zAU=\n",
      "_SuoEm9TG9ux4yBNW2F8daVilFE69eXmxm6spnGwHViZ9t_ndH0AadLe7HPOPTr349eghq7BSrm=\n",
      "wa9XgZJAMPgycgnob3-vaFlBHoHW27DA0sO0l86BgG1Hfta11QW3B1BE-fD_7nm7ti3KqHKJ9o_=\n",
      "Qm9PVVCK0_WY1Wo0rV7fAf-oOpV03oAsYSIiijPJEJ690UOhXQlr3Z8n5xcdqD6wOwT3d02YErj=\n",
      "_ZQjF_DTrlD-k3XaOvUs3JE7Hvtk7WV8VVtms27ePtkMdG2a0zY9dlWI8BgbONXo7t94bzzrUFj=\n",
      "Oz-1a9N88sFuVPNRgMoF5IVUWDJgOaZIudaFpsjTtCwxTWguseAIgDzKmE41CE0EygRJxgudE6q=\n",
      "goIVKNSG8LDABqqFIEmQZlpqKKMglo0XGS-QSUsZpQhmRCCLLWZJjJoUQwLQExFxmKKQEySGaKs=\n",
      "FJIihBnUdFkUaJzlVWcialKmTRT7nfTddAFyrrzKsqo4ny_v_rW41ezGsc_mp0FenvbxzeTah7m=\n",
      "n59mqY_Nxom17NQL-rGjlsaxOLSLD1tMVtW2_N2fjY_P5up2Tx5-nGfTOzDcrquyNoLc0wv3PPu=\n",
      "9uFxLC6z-ZqH8WbxOB5PJt9urunz7NZcvb5c7RIi7u7Wx-xL7Mi0UJbubxMkYUNOhoTlQ5JFDm3=\n",
      "XBLc73Mj1rL-oAEEdgBuowIGvgoNeHK_hQJxa48ENfv8BEB8Xug\" style=3D\"font-family:&=\n",
      "#39;Motiva Sans&#39;,Helvetica,Arial,sans-serif;color:#000000;font-size:11p=\n",
      "x;margin-bottom:4px\" target=3D\"_blank\">\n",
      "            Click here.        </a>\n",
      "    </center>\n",
      "\n",
      "</div>\n",
      "\n",
      "\n",
      "</div></div>\n",
      "</div></div>\n",
      "\n",
      "--000000000000348e0c05c78291dc--\n",
      "\n",
      "\n"
     ]
    }
   ],
   "source": [
    "f = open(\"mail.txt\", \"r\")\n",
    "print(f.read())"
   ]
  },
  {
   "cell_type": "code",
   "execution_count": 2,
   "id": "valid-cisco",
   "metadata": {},
   "outputs": [
    {
     "data": {
      "text/plain": [
       "str"
      ]
     },
     "execution_count": 2,
     "metadata": {},
     "output_type": "execute_result"
    }
   ],
   "source": [
    "type(f.read())"
   ]
  },
  {
   "cell_type": "code",
   "execution_count": 3,
   "id": "patient-oxygen",
   "metadata": {},
   "outputs": [],
   "source": [
    "a = f.read()"
   ]
  },
  {
   "cell_type": "code",
   "execution_count": 5,
   "id": "packed-festival",
   "metadata": {},
   "outputs": [],
   "source": [
    "f = open(\"mail.txt\", \"r\")\n",
    "a = f.read()"
   ]
  },
  {
   "cell_type": "code",
   "execution_count": null,
   "id": "norwegian-mitchell",
   "metadata": {},
   "outputs": [],
   "source": [
    "a.s"
   ]
  },
  {
   "cell_type": "code",
   "execution_count": 8,
   "id": "opposite-venture",
   "metadata": {},
   "outputs": [
    {
     "name": "stdout",
     "output_type": "stream",
     "text": [
      "['hello', 'my name is Peter', 'I am 26 years old']\n"
     ]
    }
   ],
   "source": [
    "txt = \"hello, my name is Peter, I am 26 years old\"\n",
    "\n",
    "x = txt.split(\", \")\n",
    "\n",
    "print(x)"
   ]
  },
  {
   "cell_type": "code",
   "execution_count": null,
   "id": "absolute-filter",
   "metadata": {},
   "outputs": [],
   "source": [
    "kunforever16:"
   ]
  },
  {
   "cell_type": "code",
   "execution_count": 9,
   "id": "varying-drive",
   "metadata": {},
   "outputs": [],
   "source": [
    "x = a.split(\"kunforever16:\")"
   ]
  },
  {
   "cell_type": "code",
   "execution_count": 11,
   "id": "handmade-jungle",
   "metadata": {},
   "outputs": [
    {
     "data": {
      "text/plain": [
       "2"
      ]
     },
     "execution_count": 11,
     "metadata": {},
     "output_type": "execute_result"
    }
   ],
   "source": [
    "len(x)"
   ]
  },
  {
   "cell_type": "code",
   "execution_count": 15,
   "id": "fewer-madrid",
   "metadata": {},
   "outputs": [],
   "source": [
    "b = x[1]"
   ]
  },
  {
   "cell_type": "code",
   "execution_count": 16,
   "id": "unauthorized-warrior",
   "metadata": {},
   "outputs": [
    {
     "data": {
      "text/plain": [
       "'\\nYTWFB\\nThis email was generated because of a login attempt from a web or mobile\\ndevice located at 103.51.139.17 (IN).\\n<https://steamcommunity.com/actions/ReportSuspiciousLogin?stoken=3D6ae96a9b=\\n8ecd3a39c4c25ffbf2c544ddc40298cb5caac5b8e3f4fa6f16c80c175bf912eab2be4f115db=\\nc0a2fab00c37cdf269129832b75dc58a435202318ca679309c78666a3f8acc987c688a85aab=\\n2e6510621cf966ab4f8af9e7d5388eb8b3>\\nThe login attempt included your correct account name and password.\\n\\nThe Steam Guard code is required to complete the login. No one can access\\nyour account without also accessing this email.\\n\\nIf you are not attempting to log in then please change your Steam password,\\nand consider changing your email password as well to ensure your account\\nsecurity.\\nCheers,\\nThe Steam Team\\nThis notification has been sent to the email address associated with your\\nSteam account.\\n\\nThis email message was auto-generated. Please do not respond. If you need\\nadditional help, please visit Steam Support.\\nhttps://help.steampowered.com\\n<https://store.steampowered.com/>\\nTo download the Steam desktop client and learn more about Steam, please\\nvisit About Steam.\\n\\n*About Steam* <https://store.steampowered.com/about/>\\n<https://www.valvesoftware.com/en/>\\n*=C2=A9 Valve Corporation*\\n*PO Box 1688 Bellevue, WA 98009*\\n\\nAll rights reserved. All trademarks are property of their respective owners\\nin the US and other countries. Trouble viewing this message? Click here.\\n<https://store.steampowered.com/email/codefornewcomputerwithiplocwarning?sp=\\narams=3DeJyFUl1P2zAU_SuoEm9TG9ux4yBNW2F8daVilFE69eXmxm6spnGwHViZ9t_ndH0AadL=\\ne7HPOPTr349eghq7BSrmwa9XgZJAMPgycgnob3-vaFlBHoHW27DA0sO0l86BgG1Hfta11QW3B1B=\\nE-fD_7nm7ti3KqHKJ9o_Qm9PVVCK0_WY1Wo0rV7fAf-oOpV03oAsYSIiijPJEJ690UOhXQlr3Z8=\\nn5xcdqD6wOwT3d02YErj_ZQjF_DTrlD-k3XaOvUs3JE7Hvtk7WV8VVtms27ePtkMdG2a0zY9dlW=\\nI8BgbONXo7t94bzzrUFjOz-1a9N88sFuVPNRgMoF5IVUWDJgOaZIudaFpsjTtCwxTWguseAIgDz=\\nKmE41CE0EygRJxgudE6qgoIVKNSG8LDABqqFIEmQZlpqKKMglo0XGS-QSUsZpQhmRCCLLWZJjJo=\\nUQwLQExFxmKKQEySGaKsFJIihBnUdFkUaJzlVWcialKmTRT7nfTddAFyrrzKsqo4ny_v_rW41ez=\\nGsc_mp0FenvbxzeTah7mn59mqY_Nxom17NQL-rGjlsaxOLSLD1tMVtW2_N2fjY_P5up2Tx5-nGf=\\nTOzDcrquyNoLc0wv3PPu9uFxLC6z-ZqH8WbxOB5PJt9urunz7NZcvb5c7RIi7u7Wx-xL7Mi0UJb=\\nubxMkYUNOhoTlQ5JFDm3XBLc73Mj1rL-oAEEdgBuowIGvgoNeHK_hQJxa48ENfv8BEB8Xug>\\n\\n--000000000000348e0c05c78291dc\\nContent-Type: text/html; charset=\"UTF-8\"\\nContent-Transfer-Encoding: quoted-printable\\n\\n<div dir=3D\"ltr\"><br><br><div class=3D\"gmail_quote\"><div dir=3D\"ltr\" class=\\n=3D\"gmail_attr\">---------- Forwarded message ---------<br>From: <strong cla=\\nss=3D\"gmail_sendername\" dir=3D\"auto\">Additya Dharangaonkar</strong> <span d=\\nir=3D\"auto\">&lt;<a href=3D\"mailto:kunforever16@gmail.com\">kunforever16@gmai=\\nl.com</a>&gt;</span><br>Date: Mon, Jul 19, 2021 at 6:38 PM<br>Subject: Fwd:=\\n Your Steam account: Access from new computer<br>To: Additya Dharangaonkar =\\n&lt;<a href=3D\"mailto:kunforever16@gmail.com\">kunforever16@gmail.com</a>&gt=\\n;<br></div><br><br><div dir=3D\"ltr\"><br><br><div class=3D\"gmail_quote\"><div=\\n dir=3D\"ltr\" class=3D\"gmail_attr\">---------- Forwarded message ---------<br=\\n>From: <strong class=3D\"gmail_sendername\" dir=3D\"auto\">Steam Support</stron=\\ng> <span dir=3D\"auto\">&lt;<a href=3D\"mailto:noreply@steampowered.com\" targe=\\nt=3D\"_blank\">noreply@steampowered.com</a>&gt;</span><br>Date: Wed, Jun 9, 2=\\n021 at 11:00 AM<br>Subject: Your Steam account: Access from new computer<br=\\n>To:  &lt;<a href=3D\"mailto:kunforever16@gmail.com\" target=3D\"_blank\">kunfo=\\nrever16@gmail.com</a>&gt;<br></div><br><br><u></u>\\n\\n\\n   =20\\n   =20\\n   =20\\n   =20\\n   =20\\n   =20\\n   =20\\n   =20\\n   =20\\n   =20\\n\\n   =20\\n   =20\\n   =20\\n\\n   =20\\n\\n\\n\\n<div style=3D\"padding:0!important;margin:0 auto!important;display:block!imp=\\nortant;min-width:100%!important;width:100%!important;background:#ffffff\">\\n<center>\\n    <table width=3D\"100%\" border=3D\"0\" cellspacing=3D\"0\" cellpadding=3D\"0\" =\\nstyle=3D\"margin:0;padding:0;width:100%;height:100%\" bgcolor=3D\"#ffffff\">\\n        <tbody><tr>\\n            <td style=3D\"margin:0;padding:0;width:100%;height:100%\" align=\\n=3D\"center\" valign=3D\"top\">\\n                <table width=3D\"775\" border=3D\"0\" cellspacing=3D\"0\" cellpad=\\nding=3D\"0\">\\n                    <tbody><tr>\\n                        <td style=3D\"width:775px;min-width:775px;font-size:=\\n0pt;line-height:0pt;padding:0;margin:0;font-weight:normal\">\\n                            <table width=3D\"100%\" border=3D\"0\" cellspacing=\\n=3D\"0\" cellpadding=3D\"0\">\\n                               =20\\n                                <tbody><tr>\\n                                    <td bgcolor=3D\"#212429\" style=3D\"paddin=\\ng:80px\">\\n                                        <table width=3D\"100%\" border=3D\"0\" =\\ncellspacing=3D\"0\" cellpadding=3D\"0\">\\n\\n                                           =20\\n                                            <tbody><tr>\\n                                                <td style=3D\"font-size:0pt;=\\nline-height:0pt;text-align:left;padding-bottom:45px\">\\n                                                    <a href=3D\"https://stor=\\ne.steampowered.com/\" target=3D\"_blank\">\\n                                                        <img src=3D\"https:/=\\n/store.cloudflare.steamstatic.com/public/shared/images/email/logo.png\" widt=\\nh=3D\"615\" height=3D\"88\" border=3D\"0\" alt=3D\"Steam\">\\n                                                    </a>\\n\\n                                                </td>\\n                                            </tr>\\n                                           =20\\n\\n                                           =20\\n                                            <tr>\\n                                                <td>\\n\\n\\t\\t\\t<table width=3D\"100%\" border=3D\"0\" cellspacing=3D\"0\" cellpadding=3D\"0\">\\n\\t\\t\\t\\t<tbody><tr>\\n\\t\\t\\t\\t\\t<td style=3D\"font-size:36px;line-height:42px;font-family:&#39;Motiva S=\\nans&#39;,Helvetica,Arial,sans-serif;text-align:left;padding-bottom:30px;col=\\nor:#bfbfbf;font-weight:bold\">Dear kunforever16,</td>\\n\\t\\t\\t\\t</tr>\\n\\t\\t\\t</tbody></table>\\n\\t\\t\\t\\t\\t\\t<table width=3D\"100%\" border=3D\"0\" cellspacing=3D\"0\" cellpadding=3D\"0=\\n\">\\n\\t\\t\\t\\t<tbody><tr>\\n\\t\\t\\t\\t\\t<td style=3D\"font-size:18px;line-height:25px;font-family:&#39;Motiva S=\\nans&#39;,Helvetica,Arial,sans-serif;text-align:left;color:#dbdbdb;padding-b=\\nottom:30px\">Here is the Steam Guard code you need to login to account kunfo=\\nrever16:</td>\\n\\t\\t\\t\\t</tr>\\n\\t\\t\\t</tbody></table>\\n\\t\\t\\t\\t\\t\\t<table width=3D\"100%\" border=3D\"0\" cellspacing=3D\"0\" cellpadding=3D\"0=\\n\">\\n\\t\\t\\t\\t<tbody><tr>\\n\\t\\t\\t\\t\\t<td style=3D\"padding-bottom:70px\">\\n\\t\\t\\t\\t\\t\\t<table width=3D\"100%\" border=3D\"0\" cellspacing=3D\"0\" cellpadding=3D\"0=\\n\" bgcolor=3D\"#17191c\">\\n\\t\\t\\t\\t\\t\\t\\t<tbody><tr>\\n\\t\\t\\t\\t\\t\\t\\t\\t<td style=3D\"padding-top:30px;padding-bottom:30px;padding-left:56px=\\n;padding-right:56px\">\\n\\t\\t\\t\\t\\t\\t\\t\\t\\t<table width=3D\"100%\" border=3D\"0\" cellspacing=3D\"0\" cellpadding=\\n=3D\"0\">\\n\\t\\t\\t\\t\\t\\t\\t\\t\\t\\t<tbody><tr>\\n\\t\\t\\t\\t\\t\\t\\t\\t\\t\\t\\t<td style=3D\"font-size:48px;line-height:52px;font-family:&#39;Mo=\\ntiva Sans&#39;,Helvetica,Arial,sans-serif;color:#3a9aed;font-weight:bold;te=\\nxt-align:center\">\\n\\t\\t\\t\\t\\t\\t\\t\\t\\t\\t\\t\\tYTWFB\\t\\t\\t\\t\\t\\t\\t\\t\\t\\t\\t</td>\\n\\t\\t\\t\\t\\t\\t\\t\\t\\t\\t</tr>\\n\\t\\t\\t\\t\\t\\t\\t\\t\\t</tbody></table>\\n\\t\\t\\t\\t\\t\\t\\t\\t</td>\\n\\t\\t\\t\\t\\t\\t\\t</tr>\\n\\t\\t\\t\\t\\t\\t</tbody></table>\\n\\t\\t\\t\\t\\t</td>\\n\\t\\t\\t\\t</tr>\\n\\t\\t\\t</tbody></table>\\n\\t\\t\\t\\t\\t\\t<table width=3D\"100%\" border=3D\"0\" cellspacing=3D\"0\" cellpadding=3D\"0=\\n\">\\n\\t\\t\\t\\t<tbody><tr>\\n\\t\\t\\t\\t\\t<td style=3D\"font-size:18px;line-height:25px;font-family:&#39;Motiva S=\\nans&#39;,Helvetica,Arial,sans-serif;text-align:left;color:#dbdbdb;padding-b=\\nottom:30px\">This email was generated because of a login attempt from a web =\\nor mobile device <a style=3D\"color:#c6d4df\" href=3D\"https://steamcommunity.=\\ncom/actions/ReportSuspiciousLogin?stoken=3D6ae96a9b8ecd3a39c4c25ffbf2c544dd=\\nc40298cb5caac5b8e3f4fa6f16c80c175bf912eab2be4f115dbc0a2fab00c37cdf269129832=\\nb75dc58a435202318ca679309c78666a3f8acc987c688a85aab2e6510621cf966ab4f8af9e7=\\nd5388eb8b3\" target=3D\"_blank\">located at 103.51.139.17 (IN).</a>  The login=\\n attempt included your correct account name and password.<br><br>\\nThe Steam Guard code is required to complete the login.  <span style=3D\"col=\\nor:#ffffff;font-weight:bold\">No one can access your account without also ac=\\ncessing this email.</span><br><br>\\n<span style=3D\"color:#ffffff;font-weight:bold\">If you are not attempting to=\\n log in</span> then please change your Steam password, and consider changin=\\ng your email password as well to ensure your account security.</td>\\n\\t\\t\\t\\t</tr>\\n\\t\\t\\t</tbody></table>\\n\\t\\t\\t            <table width=3D\"100%\" border=3D\"0\" cellspacing=3D\"0\" cellpad=\\nding=3D\"0\">\\n                <tbody><tr>\\n                    <td style=3D\"font-size:18px;line-height:25px;font-famil=\\ny:&#39;Motiva Sans&#39;,Helvetica,Arial,sans-serif;text-align:left;color:#3=\\na9aed;padding-bottom:40px\"></td>\\n                </tr>\\n            </tbody></table>\\n           =20\\n                                                                           =\\n                    =20\\n                                                <table width=3D\"100%\" borde=\\nr=3D\"0\" cellspacing=3D\"0\" cellpadding=3D\"0\">\\n                                                    <tbody><tr>\\n                                                        <td style=3D\"paddin=\\ng-top:30px\">\\n                                                            <table width=3D=\\n\"100%\" border=3D\"0\" cellspacing=3D\"0\" cellpadding=3D\"0\">\\n                                                                <tbody><tr>\\n                                                                    <td wid=\\nth=3D\"3\" bgcolor=3D\"#3a9aed\" style=3D\"font-size:0pt;line-height:0pt;text-al=\\nign:left\"></td>\\n                                                                    <td wid=\\nth=3D\"37\" style=3D\"font-size:0pt;line-height:0pt;text-align:left\"></td>\\n                                                                    <td>\\n                                                                        <ta=\\nble width=3D\"100%\" border=3D\"0\" cellspacing=3D\"0\" cellpadding=3D\"0\">\\n                                                                           =\\n <tbody><tr>\\n                                                                           =\\n                                                                           =\\n              <td style=3D\"font-size:16px;line-height:22px;font-family:&#39=\\n;Motiva Sans&#39;,Helvetica,Arial,sans-serif;text-align:left;padding-top:20=\\npx;padding-bottom:20px;color:#f1f1f1\">\\n                                                                           =\\n             Cheers,<br>\\nThe Steam Team                                                             =\\n                       </td>\\n                                                                           =\\n                                                                           =\\n      </tr>\\n                                                                        </t=\\nbody></table>\\n                                                                    </td>\\n                                                                </tr>\\n                                                            </tbody></table=\\n>\\n                                                        </td>\\n                                                    </tr>\\n                                                </tbody></table>\\n                                               =20\\n                                               =20\\n                                                </td>\\n                                            </tr>\\n\\n                                        </tbody></table>\\n                                    </td>\\n                                </tr>\\n                               =20\\n\\n                               =20\\n                                <tr>\\n                                    <td style=3D\"padding-top:60px;padding-b=\\nottom:60px;padding-left:90px;padding-right:90px\">\\n                                        <table width=3D\"100%\" border=3D\"0\" =\\ncellspacing=3D\"0\" cellpadding=3D\"0\">\\n\\n                                                                           =\\n             <tbody><tr>\\n                                                <td style=3D\"font-size:18px=\\n;line-height:25px;color:#000001;font-family:&#39;Motiva Sans&#39;,Helvetica=\\n,Arial,sans-serif;text-align:left;padding-bottom:60px\">\\n\\t\\t\\t                                        This notification has been sent =\\nto the email address associated with your Steam account.                   =\\n                                 <br><br>\\n\\t\\t\\t                                        This email message was auto-gene=\\nrated. Please do not respond. If you need additional help, please visit Ste=\\nam Support.                                                </td>\\n                                            </tr>\\n                                           =20\\n                                                                           =\\n            =20\\n                                                                           =\\n             <tr>\\n                                            <td style=3D\"padding-bottom:60p=\\nx\">\\n                                                <table width=3D\"100%\" borde=\\nr=3D\"0\" cellspacing=3D\"0\" cellpadding=3D\"0\">\\n                                                    <tbody><tr>\\n                                                        <th width=3D\"270\" s=\\ntyle=3D\"font-size:0pt;line-height:0pt;padding:0;margin:0;font-weight:normal=\\n\">\\n                                                            <table width=3D=\\n\"100%\" border=3D\"0\" cellspacing=3D\"0\" cellpadding=3D\"0\">\\n                                                                <tbody><tr>\\n                                                                    <td sty=\\nle=3D\"font-size:18px;line-height:25px;color:#000001;font-family:&#39;Motiva=\\n Sans&#39;,Helvetica,Arial,sans-serif;text-align:left\">\\n                                                                        <a =\\nhref=3D\"https://help.steampowered.com\" style=3D\"text-decoration:underline;c=\\nolor:#000001\" target=3D\"_blank\">\\n                                                                           =\\n <span style=3D\"text-decoration:underline;color:#000001\">https://help.steam=\\npowered.com</span>\\n                                                                        </a=\\n>\\n                                                                    </td>\\n                                                                </tr>\\n                                                            </tbody></table=\\n>\\n                                                        </th>\\n                                                                           =\\n                                 </tr>\\n                                                </tbody></table>\\n                                            </td>\\n                                            </tr>\\n                                           =20\\n\\n                                           =20\\n                                                                           =\\n                 <tr>\\n                                                    <td style=3D\"padding-bo=\\nttom:50px\">\\n                                                        <table width=3D\"100=\\n%\" border=3D\"0\" cellspacing=3D\"0\" cellpadding=3D\"0\">\\n                                                            <tbody><tr>\\n                                                                <th width=\\n=3D\"270\" valign=3D\"top\" style=3D\"font-size:0pt;line-height:0pt;padding:0;ma=\\nrgin:0;font-weight:normal;vertical-align:top\">\\n                                                                    <table =\\nwidth=3D\"100%\" border=3D\"0\" cellspacing=3D\"0\" cellpadding=3D\"0\">\\n                                                                        <tb=\\nody><tr>\\n                                                                           =\\n <td style=3D\"font-size:0pt;line-height:0pt;text-align:left\">\\n                                                                           =\\n     <a href=3D\"https://store.steampowered.com/\" target=3D\"_blank\"><img src=\\n=3D\"https://store.cloudflare.steamstatic.com/public/shared/images/email/log=\\no_footer.png\" width=3D\"165\" height=3D\"50\" border=3D\"0\" alt=3D\"\"></a>\\n                                                                           =\\n </td>\\n                                                                        </t=\\nr>\\n                                                                    </tbody=\\n></table>\\n                                                                </th>\\n                                                                <th width=\\n=3D\"15\" style=3D\"font-size:0pt;line-height:0pt;padding:0;margin:0;font-weig=\\nht:normal;vertical-align:top\"></th>\\n                                                                <th style=\\n=3D\"font-size:0pt;line-height:0pt;padding:0;margin:0;font-weight:normal\">\\n                                                                    <table =\\nwidth=3D\"100%\" border=3D\"0\" cellspacing=3D\"0\" cellpadding=3D\"0\">\\n                                                                           =\\n                                                                         <t=\\nbody><tr>\\n                                                                           =\\n     <td style=3D\"font-size:12px;line-height:18px;color:#000001;font-family=\\n:&#39;Motiva Sans&#39;,Helvetica,Arial,sans-serif;text-align:left\">\\n                                                                           =\\n                                                                           =\\n                      To download the Steam desktop client and learn more a=\\nbout Steam, please visit About Steam.                                      =\\n                                                  <br><br>\\n                                                                           =\\n             <a href=3D\"https://store.steampowered.com/about/\" style=3D\"tex=\\nt-decoration:underline;color:#000001\" target=3D\"_blank\">\\n                                                                           =\\n                 <span style=3D\"text-decoration:underline;color:#000001\"><s=\\ntrong>About Steam</strong>\\n                                                                           =\\n                 </span>\\n                                                                           =\\n             </a>\\n                                                                           =\\n                                                                           =\\n              </td>\\n                                                                           =\\n </tr>\\n                                                                           =\\n                                                                 </tbody></=\\ntable>\\n                                                                </th>\\n                                                            </tr>\\n                                                        </tbody></table>\\n                                                    </td>\\n                                                </tr>\\n\\n                                           =20\\n\\n                                           =20\\n                                            <tr>\\n                                                <td>\\n                                                    <table width=3D\"100%\" b=\\norder=3D\"0\" cellspacing=3D\"0\" cellpadding=3D\"0\">\\n                                                        <tbody><tr>\\n                                                            <th valign=3D\"t=\\nop\" width=3D\"270\" style=3D\"font-size:0pt;line-height:0pt;padding:0;margin:0=\\n;font-weight:normal;vertical-align:top\">\\n                                                                <table widt=\\nh=3D\"100%\" border=3D\"0\" cellspacing=3D\"0\" cellpadding=3D\"0\">\\n                                                                    <tbody>=\\n<tr>\\n                                                                        <td=\\n style=3D\"font-size:0pt;line-height:0pt;text-align:left\">\\n                                                                           =\\n <a href=3D\"https://www.valvesoftware.com/en/\" target=3D\"_blank\">\\n                                                                           =\\n                                                                           =\\n          <img src=3D\"https://store.cloudflare.steamstatic.com/public/share=\\nd/images/email/logo_valve.jpg\" width=3D\"165\" height=3D\"48\" border=3D\"0\" alt=\\n=3D\"\">\\n                                                                           =\\n                                                                           =\\n      </a>\\n                                                                        </t=\\nd>\\n                                                                    </tr>\\n                                                                </tbody></t=\\nable>\\n                                                            </th>\\n                                                            <th valign=3D\"t=\\nop\" width=3D\"15\" style=3D\"font-size:0pt;line-height:0pt;padding:0;margin:0;=\\nfont-weight:normal;vertical-align:top\"></th>\\n                                                            <th valign=3D\"t=\\nop\" style=3D\"font-size:0pt;line-height:0pt;padding:0;margin:0;font-weight:n=\\normal;vertical-align:top\">\\n                                                                <table widt=\\nh=3D\"100%\" border=3D\"0\" cellspacing=3D\"0\" cellpadding=3D\"0\">\\n                                                                    <tbody>=\\n<tr>\\n                                                                        <td=\\n style=3D\"font-size:12px;line-height:18px;color:#000001;font-family:&#39;Mo=\\ntiva Sans&#39;,Helvetica,Arial,sans-serif;text-align:left;padding-bottom:30=\\npx\">\\n\\t                                                                          =\\n                                                                           =\\n   <strong>=C2=A9 Valve Corporation</strong>\\n                                                                           =\\n     <br>\\n                                                                           =\\n     <strong>PO Box 1688 Bellevue, WA 98009</strong>\\n                                                                           =\\n     <br><br>\\n\\t\\t                                                                        A=\\nll rights reserved. All trademarks are property of their respective owners =\\nin the US and other countries.\\t                                            =\\n                                                                           =\\n                         </td>\\n                                                                    </tr>\\n                                                                   =20\\n                                                                </tbody></t=\\nable>\\n                                                            </th>\\n                                                        </tr>\\n                                                    </tbody></table>\\n                                                </td>\\n                                            </tr>\\n                                        </tbody></table>\\n                                    </td>\\n                                </tr>\\n                           =20\\n                            </tbody></table>\\n                        </td>\\n                    </tr>\\n                </tbody></table>\\n            </td>\\n        </tr>\\n    </tbody></table>\\n</center>\\n\\n    <center style=3D\"font-family:&#39;Motiva Sans&#39;,Helvetica,Arial,sans=\\n-serif;color:#000000;font-size:11px;margin-bottom:4px\">\\n        Trouble viewing this message?        <a href=3D\"https://store.steam=\\npowered.com/email/codefornewcomputerwithiplocwarning?sparams=3DeJyFUl1P2zAU=\\n_SuoEm9TG9ux4yBNW2F8daVilFE69eXmxm6spnGwHViZ9t_ndH0AadLe7HPOPTr349eghq7BSrm=\\nwa9XgZJAMPgycgnob3-vaFlBHoHW27DA0sO0l86BgG1Hfta11QW3B1BE-fD_7nm7ti3KqHKJ9o_=\\nQm9PVVCK0_WY1Wo0rV7fAf-oOpV03oAsYSIiijPJEJ690UOhXQlr3Z8n5xcdqD6wOwT3d02YErj=\\n_ZQjF_DTrlD-k3XaOvUs3JE7Hvtk7WV8VVtms27ePtkMdG2a0zY9dlWI8BgbONXo7t94bzzrUFj=\\nOz-1a9N88sFuVPNRgMoF5IVUWDJgOaZIudaFpsjTtCwxTWguseAIgDzKmE41CE0EygRJxgudE6q=\\ngoIVKNSG8LDABqqFIEmQZlpqKKMglo0XGS-QSUsZpQhmRCCLLWZJjJoUQwLQExFxmKKQEySGaKs=\\nFJIihBnUdFkUaJzlVWcialKmTRT7nfTddAFyrrzKsqo4ny_v_rW41ezGsc_mp0FenvbxzeTah7m=\\nn59mqY_Nxom17NQL-rGjlsaxOLSLD1tMVtW2_N2fjY_P5up2Tx5-nGfTOzDcrquyNoLc0wv3PPu=\\n9uFxLC6z-ZqH8WbxOB5PJt9urunz7NZcvb5c7RIi7u7Wx-xL7Mi0UJbubxMkYUNOhoTlQ5JFDm3=\\nXBLc73Mj1rL-oAEEdgBuowIGvgoNeHK_hQJxa48ENfv8BEB8Xug\" style=3D\"font-family:&=\\n#39;Motiva Sans&#39;,Helvetica,Arial,sans-serif;color:#000000;font-size:11p=\\nx;margin-bottom:4px\" target=3D\"_blank\">\\n            Click here.        </a>\\n    </center>\\n\\n</div>\\n\\n\\n</div></div>\\n</div></div>\\n\\n--000000000000348e0c05c78291dc--\\n\\n'"
      ]
     },
     "execution_count": 16,
     "metadata": {},
     "output_type": "execute_result"
    }
   ],
   "source": [
    "b"
   ]
  },
  {
   "cell_type": "code",
   "execution_count": 20,
   "id": "interested-little",
   "metadata": {},
   "outputs": [
    {
     "data": {
      "text/plain": [
       "'YTWFB'"
      ]
     },
     "execution_count": 20,
     "metadata": {},
     "output_type": "execute_result"
    }
   ],
   "source": [
    "b[1:6]"
   ]
  },
  {
   "cell_type": "code",
   "execution_count": 98,
   "id": "australian-bobby",
   "metadata": {},
   "outputs": [],
   "source": [
    "import imaplib\n",
    "import email"
   ]
  },
  {
   "cell_type": "code",
   "execution_count": 99,
   "id": "serial-withdrawal",
   "metadata": {},
   "outputs": [],
   "source": [
    "host = 'imap.gmail.com'\n",
    "username = 'kunforever16@gmail.com'\n",
    "password = 'additya007'"
   ]
  },
  {
   "cell_type": "code",
   "execution_count": 100,
   "id": "developing-norwegian",
   "metadata": {},
   "outputs": [
    {
     "data": {
      "text/plain": [
       "('OK', [b'560'])"
      ]
     },
     "execution_count": 100,
     "metadata": {},
     "output_type": "execute_result"
    }
   ],
   "source": [
    "mail = imaplib.IMAP4_SSL(host)\n",
    "mail.login(username, password)\n",
    "mail.select(\"inbox\")"
   ]
  },
  {
   "cell_type": "code",
   "execution_count": 101,
   "id": "stupid-relaxation",
   "metadata": {},
   "outputs": [],
   "source": [
    "_, search_data = mail.search(None, 'UNSEEN')"
   ]
  },
  {
   "cell_type": "code",
   "execution_count": 102,
   "id": "taken-gilbert",
   "metadata": {},
   "outputs": [],
   "source": [
    "mail_list = search_data[0].split()"
   ]
  },
  {
   "cell_type": "code",
   "execution_count": 103,
   "id": "opening-enhancement",
   "metadata": {},
   "outputs": [],
   "source": [
    "latest = mail_list[-1]"
   ]
  },
  {
   "cell_type": "code",
   "execution_count": 104,
   "id": "senior-weekly",
   "metadata": {},
   "outputs": [],
   "source": [
    "_, data = mail.fetch(latest, '(RFC822)')\n",
    "_, b = data[0]"
   ]
  },
  {
   "cell_type": "code",
   "execution_count": 105,
   "id": "alert-idaho",
   "metadata": {},
   "outputs": [
    {
     "data": {
      "text/plain": [
       "b'Delivered-To: kunforever16@gmail.com\\r\\nReceived: by 2002:a05:6520:3346:b029:110:fc1e:5501 with SMTP id r6csp6812775lkc;\\r\\n        Wed, 21 Jul 2021 13:55:07 -0700 (PDT)\\r\\nX-Google-Smtp-Source: ABdhPJxchHyYE6hNlCPuDfHEMlP1VlGkzs+e5CfzOaPxZb/faknpt6r1v8eIdMBERbDdyET39IZb\\r\\nX-Received: by 2002:a17:903:234f:b029:12b:7bad:75cb with SMTP id c15-20020a170903234fb029012b7bad75cbmr18432223plh.67.1626900906825;\\r\\n        Wed, 21 Jul 2021 13:55:06 -0700 (PDT)\\r\\nARC-Seal: i=1; a=rsa-sha256; t=1626900906; cv=none;\\r\\n        d=google.com; s=arc-20160816;\\r\\n        b=Y/Lp8ulKsdo3roiCNIhrZnxxUNn2kIvNKYBNPPY5jD+Kc/ySk4fGUwSJiBL8Q43rJ7\\r\\n         rj3FpYxN7UN40CibrZyAg2s3489bYpztWrgeFT23XH0VWKBb+DD/XGiwwzVwWx4cuZlY\\r\\n         TfFGrNsA6hY0BgPLTHJitQT9h3crtGV54yZx39+sRR0+PjW7TmafI5JYYdczCCfeR1Y1\\r\\n         a+JcfFAYdaYDO+GQeU/L7LpAuBxyhYnzR1nW1GZTIJRgZLaCmZqTEdmnZXBnlT+2R00e\\r\\n         JOkgxR6lkPENpyQeXxekC2P5xWr6RYSA0NrswMGRZJHl9XUL1/k14dW7f12ZEPFaOWoJ\\r\\n         M0ww==\\r\\nARC-Message-Signature: i=1; a=rsa-sha256; c=relaxed/relaxed; d=google.com; s=arc-20160816;\\r\\n        h=date:message-id:subject:mime-version:errors-to:reply-to:from:to\\r\\n         :dkim-signature;\\r\\n        bh=IgxF5ulShq1FcW982kQp8zWGNgEt/d2LVxPdvOj4qoI=;\\r\\n        b=USBwlVWGoAEPzHRbnMxFDar2EeIcu/ec3Y8hk6uaq45OjsKv5PbZ5KNIij4m9pOlGt\\r\\n         y5XEPvm5SXBFSq5sNUpNAN1LQ8WItdt2VsnFwht27MpTH/Pp1FYlvsbtcU+a2de3DsEE\\r\\n         xkA3tUadmPsZPArirgQ12OI9uzOjW1yRf/cuHDXLu6zIe7CwOMjan+hGkYHIAYgg15Lr\\r\\n         zYOntMrm4DPdGP3QoME/oCHbSQJ8fl/ZhHwMwsljF/CFu8VH51izccSInLqgyj1J1wdN\\r\\n         zrEocy1ppFnQA/vRv7pKubYC9YQnOvPR9DBrFoHv7kXwsJJtVS5jmrUpSdf95M5mHcmj\\r\\n         AMTw==\\r\\nARC-Authentication-Results: i=1; mx.google.com;\\r\\n       dkim=pass header.i=@steampowered.com header.s=smtp header.b=\"I/M9nBTL\";\\r\\n       spf=pass (google.com: domain of noreply@steampowered.com designates 208.64.202.53 as permitted sender) smtp.mailfrom=noreply@steampowered.com;\\r\\n       dmarc=pass (p=REJECT sp=REJECT dis=NONE) header.from=steampowered.com\\r\\nReturn-Path: <noreply@steampowered.com>\\r\\nReceived: from smtp-53.steampowered.com (smtp-53.steampowered.com. [208.64.202.53])\\r\\n        by mx.google.com with ESMTPS id a8si30034676pgm.98.2021.07.21.13.55.06\\r\\n        for <kunforever16@gmail.com>\\r\\n        (version=TLS1_2 cipher=ECDHE-ECDSA-CHACHA20-POLY1305 bits=256/256);\\r\\n        Wed, 21 Jul 2021 13:55:06 -0700 (PDT)\\r\\nReceived-SPF: pass (google.com: domain of noreply@steampowered.com designates 208.64.202.53 as permitted sender) client-ip=208.64.202.53;\\r\\nAuthentication-Results: mx.google.com;\\r\\n       dkim=pass header.i=@steampowered.com header.s=smtp header.b=\"I/M9nBTL\";\\r\\n       spf=pass (google.com: domain of noreply@steampowered.com designates 208.64.202.53 as permitted sender) smtp.mailfrom=noreply@steampowered.com;\\r\\n       dmarc=pass (p=REJECT sp=REJECT dis=NONE) header.from=steampowered.com\\r\\nDKIM-Signature: v=1; a=rsa-sha256; q=dns/txt; c=relaxed/relaxed;\\r\\n\\td=steampowered.com; s=smtp; h=Date:Message-Id:Content-Type:Subject:\\r\\n\\tMIME-Version:Reply-To:From:To:Sender:Cc:Content-Transfer-Encoding:Content-ID:\\r\\n\\tContent-Description:Resent-Date:Resent-From:Resent-Sender:Resent-To:Resent-Cc\\r\\n\\t:Resent-Message-ID:In-Reply-To:References:List-Id:List-Help:List-Unsubscribe:\\r\\n\\tList-Subscribe:List-Post:List-Owner:List-Archive;\\r\\n\\tbh=IgxF5ulShq1FcW982kQp8zWGNgEt/d2LVxPdvOj4qoI=; b=I/M9nBTLZQO/FKP1U0xh/KfYSL\\r\\n\\t24FuwG/V15uPZAXgJA+TH2j35HvEz43vYmZrTJhRULTEDQByoWtb8JvL6mHqR1vL+oQAK9f9QOofc\\r\\n\\tQozPPjlgVPFmWYt2J1kW+lPwDy8TIHMP0fm1LmJ2YDmpfalY5Hz7a5qnxxAx6xyTvDx4=;\\r\\nReceived: from [208.64.200.217] (helo=valvesoftware.com)\\r\\n\\tby smtp-03-tuk1.steampowered.com with smtp (Exim 4.90_1)\\r\\n\\t(envelope-from <noreply@steampowered.com>)\\r\\n\\tid 1m6JFC-0007BT-HE\\r\\n\\tfor kunforever16@gmail.com; Wed, 21 Jul 2021 13:55:06 -0700\\r\\nTo: kunforever16@gmail.com\\r\\nFrom: \"Steam Support\" <noreply@steampowered.com>\\r\\nReply-To: <noreply@steampowered.com>\\r\\nErrors-To: <noreply@steampowered.com>\\r\\nX-Steam-Message-Type: CEmailSteamGuard_Web\\r\\nMIME-Version: 1.0\\r\\nSubject: Your Steam account: Access from new web or mobile device\\r\\nContent-Type: multipart/alternative;\\r\\n boundary=\"np60f889aa7dd6c\"\\r\\nMessage-Id: <E1m6JFC-0007BT-HE@smtp-03-tuk1.steampowered.com>\\r\\nDate: Wed, 21 Jul 2021 13:55:06 -0700\\r\\n\\r\\nThis is a multi-part message in MIME format.\\r\\n--np60f889aa7dd6c\\r\\nContent-Type: text/plain; charset=UTF-8; format=flowed\\r\\nContent-Transfer-Encoding: 7bit\\r\\n\\r\\n\\r\\nDear kunforever16,\\r\\n\\r\\nHere is the Steam Guard code you need to login to account kunforever16:\\r\\n\\r\\n4T35R\\r\\n\\r\\nThis email was generated because of a login attempt from a web or mobile device located at 155.33.134.69 (US).  The login attempt included your correct account name and password.\\r\\n\\r\\nhttps://steamcommunity.com/actions/ReportSuspiciousLogin?stoken=ece7f0a7c07e1df15790e46ab7f8363a17b2685220cb0d6a4b751f5f2870d7ff6518d5a45d0b7465c307ae339351353e3741d764ed5e8effc4689b6ee9bd70dbf569ab3e1bbec0c41d9fc8a6d0daf5d921327ea1fcdd0a5dbd83b84d22b5149f\\r\\n\\r\\nThe Steam Guard code is required to complete the login.  No one can access your account without also accessing this email.\\r\\n\\r\\nIf you are not attempting to log in then please change your Steam password, and consider changing your email password as well to ensure your account security.\\r\\n\\r\\nIf you are unable to access your account then use this account specific recovery link for assistance recovering or self-locking your account.\\r\\n\\r\\nhttps://help.steampowered.com/wizard/HelpUnauthorizedLogin?stoken=C2FLQThUMtblYIX9ARdIXfiAaRmlZ9voLKfGrd6eeYXPWYb30eg2quF%2BLwpTyIEkaml7qE4u9ancEybVjUVmiChdychOlE0kEGRJx2FSMvA%3D\\r\\n\\r\\nCheers,\\r\\nThe Steam Team\\r\\n\\r\\n--\\r\\n\\r\\nThis notification has been sent to the email address associated with your Steam account.\\r\\n\\r\\nThis email message was auto-generated. Please do not respond. If you need additional help, please visit Steam Support.\\r\\nhttps://help.steampowered.com\\r\\n\\r\\n\\xc2\\xa9 Valve Corporation\\r\\nAll rights reserved. All trademarks are property of their respective owners in the US and other countries.\\r\\n\\r\\n--\\r\\n\\r\\nView this message on the web:\\r\\nhttps://store.steampowered.com/email/codefornewwebloginwithiplocwarning?sparams=eJyFUl1v0zAU_StTpb2h1o5jO5mEoIxuDFoB7To21Bd_XDemSZw5zkaG-O84JQ-bhMSbfe65R-fce39NStHVqgAf-gYmZxM0eTXxIMoqvvelk6KMQOOd7lSoRTVQNgFEFdG2axrnA1TClhEev2_body4R_Cgp8o9Y7Y2DP1FCE17tpvtZgWUzfQf_FG0hTp0QcUWzBKWI5QjNqiB8hCU04NYek3oegD3I3B0d3LZCa9PjlC0X4oe_Oj-0NXGeXgAj9kx6-CsKWxblLY-vLB3dBYdVV1tQz94282ECtbV7W62PjZuuraxyrquXbq9rd-0wR2gfg0KuEGCK8QBa4MpzxGkTEhuMsKIwFwmLKNJgpREmolUcooNNUnGkebGMIozTUVKNZI8ZVQRxAUQkhOKCSVAeIo1ZyloChkYo1KW5ZIB5FJHBWkoy4UkgKUEhVQk50ZlgmmkhaE6TzBJOAhslNZIUC11RmSW6iSRFKe5iYMZdtPVoguF8_YJtFAK2vb_69vNHu1THP5u9iGWt88UXkzoPLlYfr0utqsgy7ur23y-1le3xs7Fuiq_5w9u-clceh0T3d1--XYnCYJ9ct9dnCbvlo_NdX-1OIiq5PeLtMtFrRa9vPmxvanseaF7VXwuF-iwuFx__JlcbFYP81PyPiayjdDa_w2BKZ0SMsUknbI81pTr6uD78Ua2m-GigggwAqv5wIlHMP7PRSW91XuY_P4D5hUVVg\\r\\n\\r\\n--np60f889aa7dd6c\\r\\nContent-Type: text/html; charset=UTF-8\\r\\nContent-Transfer-Encoding: 7bit\\r\\n\\r\\n<!DOCTYPE html PUBLIC \"-//W3C//DTD XHTML 1.0 Transitional//EN\" \"http://www.w3.org/TR/xhtml1/DTD/xhtml1-transitional.dtd\">\\r\\n<html xmlns=\"http://www.w3.org/1999/xhtml\" xmlns:v=\"urn:schemas-microsoft-com:vml\" xmlns:o=\"urn:schemas-microsoft-com:office:office\">\\r\\n<head>\\r\\n    <!--[if gte mso 9]>\\r\\n    <xml>\\r\\n        <o:OfficeDocumentSettings>\\r\\n            <o:AllowPNG/>\\r\\n            <o:PixelsPerInch>96</o:PixelsPerInch>\\r\\n        </o:OfficeDocumentSettings>\\r\\n    </xml>\\r\\n    <![endif]-->\\r\\n    <meta http-equiv=\"Content-type\" content=\"text/html; charset=utf-8\" />\\r\\n    <meta name=\"viewport\" content=\"width=device-width, initial-scale=1, maximum-scale=1\" />\\r\\n    <meta http-equiv=\"X-UA-Compatible\" content=\"IE=edge\" />\\r\\n    <meta name=\"format-detection\" content=\"date=no\" />\\r\\n    <meta name=\"format-detection\" content=\"address=no\" />\\r\\n    <meta name=\"format-detection\" content=\"telephone=no\" />\\r\\n    <meta name=\"x-apple-disable-message-reformatting\" />\\r\\n    <title>Your Steam account: Access from new web or mobile device</title>\\r\\n    <!--[if gte mso 9]>\\r\\n    <style type=\"text/css\" media=\"all\">\\r\\n        sup { font-size: 100% !important; }\\r\\n    </style>\\r\\n    <![endif]-->\\r\\n\\r\\n    <!--[if !mso]><!-->\\r\\n    <style type=\"text/css\" media=\"screen\">\\r\\n        @font-face {\\r\\n            font-family: \\'Motiva Sans\\';\\r\\n            font-style: normal;\\r\\n            font-weight: 300;\\r\\n            src: local(\\'Motiva Sans\\'), url(\\'https://store.cloudflare.steamstatic.com/public/shared/fonts/email/MotivaSans-Light.woff\\') format(\\'woff\\');\\r\\n        }\\r\\n\\r\\n        @font-face {\\r\\n            font-family: \\'Motiva Sans\\';\\r\\n            font-style: normal;\\r\\n            font-weight: normal;\\r\\n            src: local(\\'Motiva Sans\\'), url(\\'https://store.cloudflare.steamstatic.com//public/shared/fonts/email/MotivaSans-Regular.woff\\') format(\\'woff\\');\\r\\n        }\\r\\n\\r\\n        @font-face {\\r\\n            font-family: \\'Motiva Sans\\';\\r\\n            font-style: normal;\\r\\n            font-weight: bold;\\r\\n            src: local(\\'Motiva Sans\\'), url(\\'https://store.cloudflare.steamstatic.com//public/shared/fonts/email/MotivaSans-Bold.woff\\') format(\\'woff\\');\\r\\n        }\\r\\n    </style>\\r\\n    <!--<![endif]-->\\r\\n\\r\\n    <style type=\"text/css\" media=\"screen\">\\r\\n        body { padding:0 !important; margin:0 auto !important; display:block !important; min-width:100% !important; width:100% !important; background:#ffffff; -webkit-text-size-adjust:none }\\r\\n        a { color:#3999ec; text-decoration:underline }\\r\\n        body a { color:#ffffff; text-decoration:underline }\\r\\n        img { margin: 0 !important; -ms-interpolation-mode: bicubic; /* Allow smoother rendering of resized image in Internet Explorer */ }\\r\\n\\r\\n        /* for recepits */\\r\\n            table { mso-table-lspace:0pt; mso-table-rspace:0pt; }\\r\\n            img, a img{ border:0; outline:none; text-decoration:none; }\\r\\n            #outlook a { padding:0; }\\r\\n            .ReadMsgBody { width:100%; }\\r\\n            .ExternalClass { width:100%; }\\r\\n            div,p,a,li,td,blockquote { mso-line-height-rule:exactly; }\\r\\n            a[href^=tel],a[href^=sms] { color:inherit; text-decoration:none; }\\r\\n            .ExternalClass, .ExternalClass p, .ExternalClass td, .ExternalClass div, .ExternalClass span, .ExternalClass font { line-height:100%; }\\r\\n        /* END for recepits */\\r\\n\\r\\n        a[x-apple-data-detectors] { color: inherit !important; text-decoration: inherit !important; font-size: inherit !important; font-family: inherit !important; font-weight: inherit !important; line-height: inherit !important; }\\r\\n\\r\\n        .btn-18 a { display: block; padding: 13px 35px; text-decoration: none; }\\r\\n\\r\\n        .l-white a { color: #ffffff; }\\r\\n        .l-black a { color: #000001; }\\r\\n        .l-grey1 a { color: #dbdee2; }\\r\\n        .l-grey2 a { color: #a1a2a4; }\\r\\n        .l-grey3 a { color: #dadcdd; }\\r\\n        .l-grey4 a { color: #f1f1f1; }\\r\\n        .l-grey5 a { color: #dddedf; }\\r\\n        .l-grey6 a { color: #bfbfbf; }\\r\\n        .l-grey7 a { color: #dcdddd; }\\r\\n        .l-grey8 a { color: #8e96a4; }\\r\\n        .l-green a { color: #a4d007; }\\r\\n        .l-blue a { color: #6a7c96; }\\r\\n        .l-blue1 a { color: #3999ec; }\\r\\n        .l-blue2 a { color: #9eb8cc; }\\r\\n\\r\\n\\r\\n        /* Mobile styles */\\r\\n        @media only screen and (max-device-width: 480px), only screen and (max-width: 480px) {\\r\\n            .mpy-35 { padding-top: 35px !important; padding-bottom: 35px !important; }\\r\\n\\r\\n            .mpx-15 { padding-left: 15px !important; padding-right: 15px !important; }\\r\\n\\r\\n            .mpx-20 { padding-left: 20px !important; padding-right: 20px !important; }\\r\\n\\r\\n            .mpb-30 { padding-bottom: 30px !important; }\\r\\n\\r\\n            .mpb-10 { padding-bottom: 10px !important; }\\r\\n\\r\\n            .mpb-15 { padding-bottom: 15px !important; }\\r\\n\\r\\n            .mpb-20 { padding-bottom: 20px !important; }\\r\\n\\r\\n            .mpb-35 { padding-bottom: 35px !important; }\\r\\n\\r\\n            .mpb-40 { padding-bottom: 40px !important; }\\r\\n\\r\\n            .mpb-50 { padding-bottom: 50px !important; }\\r\\n\\r\\n            .mpb-60 { padding-bottom: 60px !important; }\\r\\n\\r\\n            .mpt-30 { padding-top: 30px !important; }\\r\\n\\r\\n            .mpt-40 { padding-top: 40px !important; }\\r\\n\\r\\n            .mpy-40 { padding-top: 40px !important; padding-bottom: 40px !important; }\\r\\n\\r\\n            .mpt-0 { padding-top: 0px !important; }\\r\\n\\r\\n            .mpr-0 { padding-right: 0px !important; }\\r\\n\\r\\n            .mfz-14 { font-size: 14px !important; }\\r\\n\\r\\n            .mfz-28 { font-size: 28px !important; }\\r\\n\\r\\n            .mfz-16 { font-size: 16px !important; }\\r\\n\\r\\n            .mfz-24 { font-size: 24px !important; }\\r\\n\\r\\n            .mlh-18 { line-height: 18px !important; }\\r\\n\\r\\n            u + body .gwfw { width:100% !important; width:100vw !important; }\\r\\n\\r\\n            .td,\\r\\n            .m-shell { width: 100% !important; min-width: 100% !important; }\\r\\n\\r\\n            .mt-left { text-align: left !important; }\\r\\n            .mt-center { text-align: center !important; }\\r\\n            .mt-right { text-align: right !important; }\\r\\n\\r\\n            .m-left { text-align: left !important; }\\r\\n            .me-left { margin-right: auto !important; }\\r\\n            .me-center { margin: 0 auto !important; }\\r\\n            .me-right { margin-left: auto !important; }\\r\\n\\r\\n            .mh-auto { height: auto !important; }\\r\\n            .mw-auto { width: auto !important; }\\r\\n\\r\\n            .fluid-img img { width: 100% !important; max-width: 100% !important; height: auto !important; }\\r\\n\\r\\n            .column,\\r\\n            .column-top,\\r\\n            .column-dir,\\r\\n            .column-dir-top { float: left !important; width: 100% !important; display: block !important; }\\r\\n\\r\\n            .kmMobileStretch { float: left !important; width: 100% !important; display: block !important; padding-left: 0 !important; padding-right: 0 !important; }\\r\\n\\r\\n            .m-hide { display: none !important; width: 0 !important; height: 0 !important; font-size: 0 !important; line-height: 0 !important; min-height: 0 !important; }\\r\\n            .m-block { display: block !important; }\\r\\n\\r\\n            .mw-15 { width: 15px !important; }\\r\\n\\r\\n            .mw-2p { width: 2% !important; }\\r\\n            .mw-32p { width: 32% !important; }\\r\\n            .mw-49p { width: 49% !important; }\\r\\n            .mw-50p { width: 50% !important; }\\r\\n            .mw-100p { width: 100% !important; }\\r\\n\\r\\n            .mbgs-200p { background-size: 200% auto !important; }\\r\\n        }\\r\\n    </style>\\r\\n</head>\\r\\n\\r\\n\\r\\n<body class=\"body\" style=\"padding:0 !important; margin:0 auto !important; display:block !important; min-width:100% !important; width:100% !important; background:#ffffff; -webkit-text-size-adjust:none;\">\\r\\n<center>\\r\\n    <table width=\"100%\" border=\"0\" cellspacing=\"0\" cellpadding=\"0\"style=\"margin: 0; padding: 0; width: 100%; height: 100%;\" bgcolor=\"#ffffff\" class=\"gwfw\">\\r\\n        <tr>\\r\\n            <td style=\"margin: 0; padding: 0; width: 100%; height: 100%;\" align=\"center\" valign=\"top\">\\r\\n                <table width=\"775\" border=\"0\" cellspacing=\"0\" cellpadding=\"0\"class=\"m-shell\">\\r\\n                    <tr>\\r\\n                        <td class=\"td\" style=\"width:775px; min-width:775px; font-size:0pt; line-height:0pt; padding:0; margin:0; font-weight:normal;\">\\r\\n                            <table width=\"100%\" border=\"0\" cellspacing=\"0\" cellpadding=\"0\">\\r\\n                                <!-- Main -->\\r\\n                                <tr>\\r\\n                                    <td class=\"p-80 mpy-35 mpx-15\" bgcolor=\"#212429\" style=\"padding: 80px;\">\\r\\n                                        <table width=\"100%\" border=\"0\" cellspacing=\"0\" cellpadding=\"0\">\\r\\n\\r\\n                                            <!-- Logo -->\\r\\n                                            <tr>\\r\\n                                                <td class=\"img pb-45\" style=\"font-size:0pt; line-height:0pt; text-align:left; padding-bottom: 45px;\">\\r\\n                                                    <a href=\"https://store.steampowered.com/\" target=\"_blank\">\\r\\n                                                        <img src=\"https://store.cloudflare.steamstatic.com/public/shared/images/email/logo.png\" width=\"615\" height=\"88\" border=\"0\" alt=\"Steam\" />\\r\\n                                                    </a>\\r\\n\\r\\n                                                </td>\\r\\n                                            </tr>\\r\\n                                            <!-- END Logo -->\\r\\n\\r\\n                                            <!-- All Content Exists within this table column -->\\r\\n                                            <tr>\\r\\n                                                <td>\\r\\n\\r\\n\\t\\t\\t<table width=\"100%\" border=\"0\" cellspacing=\"0\" cellpadding=\"0\">\\r\\n\\t\\t\\t\\t<tr>\\r\\n\\t\\t\\t\\t\\t<td class=\"title-36 pb-30 c-grey6 fw-b\" style=\"font-size:36px; line-height:42px; font-family:\\'Motiva Sans\\', Helvetica, Arial, sans-serif; text-align:left; padding-bottom: 30px; color:#bfbfbf; font-weight:bold;\">Dear kunforever16,</td>\\r\\n\\t\\t\\t\\t</tr>\\r\\n\\t\\t\\t</table>\\r\\n\\t\\t\\t\\t\\t\\t<table width=\"100%\" border=\"0\" cellspacing=\"0\" cellpadding=\"0\">\\r\\n\\t\\t\\t\\t<tr>\\r\\n\\t\\t\\t\\t\\t<td class=\"text-18 c-grey4 pb-30\" style=\"font-size:18px; line-height:25px; font-family:\\'Motiva Sans\\', Helvetica, Arial, sans-serif; text-align:left; color:#dbdbdb; padding-bottom: 30px;\">Here is the Steam Guard code you need to login to account kunforever16:</td>\\r\\n\\t\\t\\t\\t</tr>\\r\\n\\t\\t\\t</table>\\r\\n\\t\\t\\t\\t\\t\\t<table width=\"100%\" border=\"0\" cellspacing=\"0\" cellpadding=\"0\">\\r\\n\\t\\t\\t\\t<tr>\\r\\n\\t\\t\\t\\t\\t<td class=\"pb-70 mpb-50\" style=\"padding-bottom: 70px;\">\\r\\n\\t\\t\\t\\t\\t\\t<table width=\"100%\" border=\"0\" cellspacing=\"0\" cellpadding=\"0\"bgcolor=\"#17191c\">\\r\\n\\t\\t\\t\\t\\t\\t\\t<tr>\\r\\n\\t\\t\\t\\t\\t\\t\\t\\t<td class=\"py-30 px-56\" style=\"padding-top: 30px; padding-bottom: 30px; padding-left: 56px; padding-right: 56px;\">\\r\\n\\t\\t\\t\\t\\t\\t\\t\\t\\t<table width=\"100%\" border=\"0\" cellspacing=\"0\" cellpadding=\"0\">\\r\\n\\t\\t\\t\\t\\t\\t\\t\\t\\t\\t<tr>\\r\\n\\t\\t\\t\\t\\t\\t\\t\\t\\t\\t\\t<td class=\"title-48 c-blue1 fw-b a-center\" style=\"font-size:48px; line-height:52px; font-family:\\'Motiva Sans\\', Helvetica, Arial, sans-serif; color:#3a9aed; font-weight:bold; text-align:center;\">\\r\\n\\t\\t\\t\\t\\t\\t\\t\\t\\t\\t\\t\\t4T35R\\t\\t\\t\\t\\t\\t\\t\\t\\t\\t\\t</td>\\r\\n\\t\\t\\t\\t\\t\\t\\t\\t\\t\\t</tr>\\r\\n\\t\\t\\t\\t\\t\\t\\t\\t\\t</table>\\r\\n\\t\\t\\t\\t\\t\\t\\t\\t</td>\\r\\n\\t\\t\\t\\t\\t\\t\\t</tr>\\r\\n\\t\\t\\t\\t\\t\\t</table>\\r\\n\\t\\t\\t\\t\\t</td>\\r\\n\\t\\t\\t\\t</tr>\\r\\n\\t\\t\\t</table>\\r\\n\\t\\t\\t\\t\\t\\t<table width=\"100%\" border=\"0\" cellspacing=\"0\" cellpadding=\"0\">\\r\\n\\t\\t\\t\\t<tr>\\r\\n\\t\\t\\t\\t\\t<td class=\"text-18 c-grey4 pb-30\" style=\"font-size:18px; line-height:25px; font-family:\\'Motiva Sans\\', Helvetica, Arial, sans-serif; text-align:left; color:#dbdbdb; padding-bottom: 30px;\">This email was generated because of a login attempt from a web or mobile device <a style=\"color: #c6d4df;\" href=\"https://steamcommunity.com/actions/ReportSuspiciousLogin?stoken=ece7f0a7c07e1df15790e46ab7f8363a17b2685220cb0d6a4b751f5f2870d7ff6518d5a45d0b7465c307ae339351353e3741d764ed5e8effc4689b6ee9bd70dbf569ab3e1bbec0c41d9fc8a6d0daf5d921327ea1fcdd0a5dbd83b84d22b5149f\">located at 155.33.134.69 (US).</a>  The login attempt included your correct account name and password.<br><br>\\r\\nThe Steam Guard code is required to complete the login.  <span style=\"color: #ffffff; font-weight: bold;\">No one can access your account without also accessing this email.</span><br><br>\\r\\n<span style=\"color: #ffffff; font-weight: bold;\">If you are not attempting to log in</span> then please change your Steam password, and consider changing your email password as well to ensure your account security.</td>\\r\\n\\t\\t\\t\\t</tr>\\r\\n\\t\\t\\t</table>\\r\\n\\t\\t\\t            <table width=\"100%\" border=\"0\" cellspacing=\"0\" cellpadding=\"0\">\\r\\n                <tr>\\r\\n                    <td class=\"text-18 c-blue1 pb-40\" style=\"font-size:18px; line-height:25px; font-family:\\'Motiva Sans\\', Helvetica, Arial, sans-serif; text-align:left; color:#3a9aed; padding-bottom: 40px;\"></td>\\r\\n                </tr>\\r\\n            </table>\\r\\n            \\r\\n                                                                                                <!-- Signature -->\\r\\n                                                <table width=\"100%\" border=\"0\" cellspacing=\"0\" cellpadding=\"0\">\\r\\n                                                    <tr>\\r\\n                                                        <td class=\"pt-30\" style=\"padding-top: 30px;\">\\r\\n                                                            <table width=\"100%\" border=\"0\" cellspacing=\"0\" cellpadding=\"0\">\\r\\n                                                                <tr>\\r\\n                                                                    <td class=\"img\" width=\"3\" bgcolor=\"#3a9aed\" style=\"font-size:0pt; line-height:0pt; text-align:left;\"></td>\\r\\n                                                                    <td class=\"img\" width=\"37\" style=\"font-size:0pt; line-height:0pt; text-align:left;\"></td>\\r\\n                                                                    <td>\\r\\n                                                                        <table width=\"100%\" border=\"0\" cellspacing=\"0\" cellpadding=\"0\">\\r\\n                                                                            <tr>\\r\\n                                                                                                                                                                    <td class=\"text-16 py-20 c-grey4 fallback-font\" style=\"font-size:16px; line-height:22px; font-family:\\'Motiva Sans\\', Helvetica, Arial, sans-serif; text-align:left; padding-top: 20px; padding-bottom: 20px; color:#f1f1f1;\">\\r\\n                                                                                        Cheers,<br />\\r\\nThe Steam Team                                                                                    </td>\\r\\n                                                                                                                                                            </tr>\\r\\n                                                                        </table>\\r\\n                                                                    </td>\\r\\n                                                                </tr>\\r\\n                                                            </table>\\r\\n                                                        </td>\\r\\n                                                    </tr>\\r\\n                                                </table>\\r\\n                                                <!-- END Signature -->\\r\\n                                                \\r\\n                                                </td>\\r\\n                                            </tr>\\r\\n\\r\\n                                        </table>\\r\\n                                    </td>\\r\\n                                </tr>\\r\\n                                <!-- END Main -->\\r\\n\\r\\n                                <!-- Footer -->\\r\\n                                <tr>\\r\\n                                    <td class=\"py-60 px-90 mpy-40 mpx-15\" style=\"padding-top: 60px; padding-bottom: 60px; padding-left: 90px; padding-right: 90px;\">\\r\\n                                        <table width=\"100%\" border=\"0\" cellspacing=\"0\" cellpadding=\"0\">\\r\\n\\r\\n                                                                                        <tr>\\r\\n                                                <td class=\"text-18 pb-60 mpb-40 fallback-font\" style=\"font-size:18px; line-height:25px; color:#000001; font-family:\\'Motiva Sans\\', Helvetica, Arial, sans-serif; text-align:left; padding-bottom: 60px;\">\\r\\n\\t\\t\\t                                        This notification has been sent to the email address associated with your Steam account.                                                    <br /><br />\\r\\n\\t\\t\\t                                        This email message was auto-generated. Please do not respond. If you need additional help, please visit Steam Support.                                                </td>\\r\\n                                            </tr>\\r\\n                                            \\r\\n                                                                                        <!-- A -->\\r\\n                                                                                        <tr>\\r\\n                                            <td class=\"pb-60\" style=\"padding-bottom: 60px;\">\\r\\n                                                <table width=\"100%\" border=\"0\" cellspacing=\"0\" cellpadding=\"0\">\\r\\n                                                    <tr>\\r\\n                                                        <th class=\"column\" width=\"270\" style=\"font-size:0pt; line-height:0pt; padding:0; margin:0; font-weight:normal;\">\\r\\n                                                            <table width=\"100%\" border=\"0\" cellspacing=\"0\" cellpadding=\"0\">\\r\\n                                                                <tr>\\r\\n                                                                    <td class=\"text-18 mpb-40 fallback-font\" style=\"font-size:18px; line-height:25px; color:#000001; font-family:\\'Motiva Sans\\', Helvetica, Arial, sans-serif; text-align:left;\">\\r\\n                                                                        <a href=\"https://help.steampowered.com\" target=\"_blank\" class=\"link-u c-black\" style=\"text-decoration:underline; color:#000001;\">\\r\\n                                                                            <span class=\"link-u c-black\" style=\"text-decoration:underline; color:#000001;\">https://help.steampowered.com</span>\\r\\n                                                                        </a>\\r\\n                                                                    </td>\\r\\n                                                                </tr>\\r\\n                                                            </table>\\r\\n                                                        </th>\\r\\n                                                                                                            </tr>\\r\\n                                                </table>\\r\\n                                            </td>\\r\\n                                            </tr>\\r\\n                                            \\r\\n\\r\\n                                            <!-- B -->\\r\\n                                                                                            <tr>\\r\\n                                                    <td class=\"pb-50\" style=\"padding-bottom: 50px;\">\\r\\n                                                        <table width=\"100%\" border=\"0\" cellspacing=\"0\" cellpadding=\"0\">\\r\\n                                                            <tr>\\r\\n                                                                <th class=\"column\" width=\"270\" valign=\"top\" style=\"font-size:0pt; line-height:0pt; padding:0; margin:0; font-weight:normal; vertical-align:top;\">\\r\\n                                                                    <table width=\"100%\" border=\"0\" cellspacing=\"0\" cellpadding=\"0\">\\r\\n                                                                        <tr>\\r\\n                                                                            <td class=\"img mpt-0\" style=\"font-size:0pt; line-height:0pt; text-align:left;\">\\r\\n                                                                                <a href=\"https://store.steampowered.com/\" target=\"_blank\"><img src=\"https://store.cloudflare.steamstatic.com/public/shared/images/email/logo_footer.png\" width=\"165\" height=\"50\" border=\"0\" alt=\"\" /></a>\\r\\n                                                                            </td>\\r\\n                                                                        </tr>\\r\\n                                                                    </table>\\r\\n                                                                </th>\\r\\n                                                                <th class=\"column-top mpb-40\" width=\"15\" style=\"font-size:0pt; line-height:0pt; padding:0; margin:0; font-weight:normal; vertical-align:top;\"></th>\\r\\n                                                                <th class=\"column\" style=\"font-size:0pt; line-height:0pt; padding:0; margin:0; font-weight:normal;\">\\r\\n                                                                    <table width=\"100%\" border=\"0\" cellspacing=\"0\" cellpadding=\"0\">\\r\\n                                                                                                                                                    <tr>\\r\\n                                                                                <td class=\"text-12 fallback-font\" style=\"font-size:12px; line-height:18px; color:#000001; font-family:\\'Motiva Sans\\', Helvetica, Arial, sans-serif; text-align:left;\">\\r\\n                                                                                                                                                                            To download the Steam desktop client and learn more about Steam, please visit About Steam.                                                                                        <br /><br />\\r\\n                                                                                        <a href=\"https://store.steampowered.com/about/\" target=\"_blank\" class=\"link-u c-black\" style=\"text-decoration:underline; color:#000001;\">\\r\\n                                                                                            <span class=\"link-u c-black\" style=\"text-decoration:underline; color:#000001;\"><strong>About Steam</strong>\\r\\n                                                                                            </span>\\r\\n                                                                                        </a>\\r\\n                                                                                                                                                                    </td>\\r\\n                                                                            </tr>\\r\\n                                                                                                                                            </table>\\r\\n                                                                </th>\\r\\n                                                            </tr>\\r\\n                                                        </table>\\r\\n                                                    </td>\\r\\n                                                </tr>\\r\\n\\r\\n                                            \\r\\n\\r\\n                                            <!-- C -->\\r\\n                                            <tr>\\r\\n                                                <td>\\r\\n                                                    <table width=\"100%\" border=\"0\" cellspacing=\"0\" cellpadding=\"0\">\\r\\n                                                        <tr>\\r\\n                                                            <th class=\"column-top\" valign=\"top\" width=\"270\" style=\"font-size:0pt; line-height:0pt; padding:0; margin:0; font-weight:normal; vertical-align:top;\">\\r\\n                                                                <table width=\"100%\" border=\"0\" cellspacing=\"0\" cellpadding=\"0\">\\r\\n                                                                    <tr>\\r\\n                                                                        <td class=\"img\" style=\"font-size:0pt; line-height:0pt; text-align:left;\">\\r\\n                                                                            <a href=\"https://www.valvesoftware.com/en/\" target=\"_blank\">\\r\\n                                                                                                                                                                <img src=\"https://store.cloudflare.steamstatic.com/public/shared/images/email/logo_valve.jpg\" width=\"165\" height=\"48\" border=\"0\" alt=\"\" />\\r\\n                                                                                                                                                            </a>\\r\\n                                                                        </td>\\r\\n                                                                    </tr>\\r\\n                                                                </table>\\r\\n                                                            </th>\\r\\n                                                            <th class=\"column-top mpb-40\" valign=\"top\" width=\"15\" style=\"font-size:0pt; line-height:0pt; padding:0; margin:0; font-weight:normal; vertical-align:top;\"></th>\\r\\n                                                            <th class=\"column-top\" valign=\"top\" style=\"font-size:0pt; line-height:0pt; padding:0; margin:0; font-weight:normal; vertical-align:top;\">\\r\\n                                                                <table width=\"100%\" border=\"0\" cellspacing=\"0\" cellpadding=\"0\">\\r\\n                                                                    <tr>\\r\\n                                                                        <td class=\"text-12 pb-30 fallback-font\" style=\"font-size:12px; line-height:18px; color:#000001; font-family:\\'Motiva Sans\\', Helvetica, Arial, sans-serif; text-align:left; padding-bottom: 30px;\">\\r\\n\\t                                                                                                                                                        <strong>\\xc2\\xa9 Valve Corporation</strong>\\r\\n                                                                                <br />\\r\\n                                                                                <strong>PO Box 1688 Bellevue, WA 98009</strong>\\r\\n                                                                                <br /><br />\\r\\n\\t\\t                                                                        All rights reserved. All trademarks are property of their respective owners in the US and other countries.\\t                                                                                                                                                </td>\\r\\n                                                                    </tr>\\r\\n                                                                    \\r\\n                                                                </table>\\r\\n                                                            </th>\\r\\n                                                        </tr>\\r\\n                                                    </table>\\r\\n                                                </td>\\r\\n                                            </tr>\\r\\n                                        </table>\\r\\n                                    </td>\\r\\n                                </tr>\\r\\n                            <!-- END Footer -->\\r\\n                            </table>\\r\\n                        </td>\\r\\n                    </tr>\\r\\n                </table>\\r\\n            </td>\\r\\n        </tr>\\r\\n    </table>\\r\\n</center>\\r\\n\\r\\n    <center style=\"font-family:\\'Motiva Sans\\', Helvetica, Arial, sans-serif; color: #000000; font-size: 11px; margin-bottom: 4px;\">\\r\\n        Trouble viewing this message?        <a href=\"https://store.steampowered.com/email/codefornewwebloginwithiplocwarning?sparams=eJyFUl1v0zAU_StTpb2h1o5jO5mEoIxuDFoB7To21Bd_XDemSZw5zkaG-O84JQ-bhMSbfe65R-fce39NStHVqgAf-gYmZxM0eTXxIMoqvvelk6KMQOOd7lSoRTVQNgFEFdG2axrnA1TClhEev2_body4R_Cgp8o9Y7Y2DP1FCE17tpvtZgWUzfQf_FG0hTp0QcUWzBKWI5QjNqiB8hCU04NYek3oegD3I3B0d3LZCa9PjlC0X4oe_Oj-0NXGeXgAj9kx6-CsKWxblLY-vLB3dBYdVV1tQz94282ECtbV7W62PjZuuraxyrquXbq9rd-0wR2gfg0KuEGCK8QBa4MpzxGkTEhuMsKIwFwmLKNJgpREmolUcooNNUnGkebGMIozTUVKNZI8ZVQRxAUQkhOKCSVAeIo1ZyloChkYo1KW5ZIB5FJHBWkoy4UkgKUEhVQk50ZlgmmkhaE6TzBJOAhslNZIUC11RmSW6iSRFKe5iYMZdtPVoguF8_YJtFAK2vb_69vNHu1THP5u9iGWt88UXkzoPLlYfr0utqsgy7ur23y-1le3xs7Fuiq_5w9u-clceh0T3d1--XYnCYJ9ct9dnCbvlo_NdX-1OIiq5PeLtMtFrRa9vPmxvanseaF7VXwuF-iwuFx__JlcbFYP81PyPiayjdDa_w2BKZ0SMsUknbI81pTr6uD78Ua2m-GigggwAqv5wIlHMP7PRSW91XuY_P4D5hUVVg\"\\r\\n            style=\"font-family:\\'Motiva Sans\\', Helvetica, Arial, sans-serif; color: #000000; font-size: 11px; margin-bottom: 4px;\">\\r\\n            Click here.        </a>\\r\\n    </center>\\r\\n\\r\\n</body>\\r\\n</html>\\r\\n\\r\\n\\r\\n--np60f889aa7dd6c--\\r\\n'"
      ]
     },
     "execution_count": 105,
     "metadata": {},
     "output_type": "execute_result"
    }
   ],
   "source": [
    "b"
   ]
  },
  {
   "cell_type": "code",
   "execution_count": 106,
   "id": "rocky-corrections",
   "metadata": {},
   "outputs": [],
   "source": [
    "# email_message = email.message_from_bytes(b)"
   ]
  },
  {
   "cell_type": "code",
   "execution_count": 107,
   "id": "instructional-winter",
   "metadata": {},
   "outputs": [],
   "source": [
    "# print(email_message)"
   ]
  },
  {
   "cell_type": "code",
   "execution_count": 108,
   "id": "described-atmosphere",
   "metadata": {},
   "outputs": [
    {
     "data": {
      "text/plain": [
       "bytes"
      ]
     },
     "execution_count": 108,
     "metadata": {},
     "output_type": "execute_result"
    }
   ],
   "source": [
    "type(b)"
   ]
  },
  {
   "cell_type": "code",
   "execution_count": 109,
   "id": "scheduled-spoke",
   "metadata": {},
   "outputs": [],
   "source": [
    "b_str = str(b)"
   ]
  },
  {
   "cell_type": "code",
   "execution_count": 110,
   "id": "surgical-spouse",
   "metadata": {},
   "outputs": [
    {
     "data": {
      "text/plain": [
       "str"
      ]
     },
     "execution_count": 110,
     "metadata": {},
     "output_type": "execute_result"
    }
   ],
   "source": [
    "type(b_str)"
   ]
  },
  {
   "cell_type": "code",
   "execution_count": 111,
   "id": "quick-british",
   "metadata": {},
   "outputs": [
    {
     "data": {
      "text/plain": [
       "'b\\'Delivered-To: kunforever16@gmail.com\\\\r\\\\nReceived: by 2002:a05:6520:3346:b029:110:fc1e:5501 with SMTP id r6csp6812775lkc;\\\\r\\\\n        Wed, 21 Jul 2021 13:55:07 -0700 (PDT)\\\\r\\\\nX-Google-Smtp-Source: ABdhPJxchHyYE6hNlCPuDfHEMlP1VlGkzs+e5CfzOaPxZb/faknpt6r1v8eIdMBERbDdyET39IZb\\\\r\\\\nX-Received: by 2002:a17:903:234f:b029:12b:7bad:75cb with SMTP id c15-20020a170903234fb029012b7bad75cbmr18432223plh.67.1626900906825;\\\\r\\\\n        Wed, 21 Jul 2021 13:55:06 -0700 (PDT)\\\\r\\\\nARC-Seal: i=1; a=rsa-sha256; t=1626900906; cv=none;\\\\r\\\\n        d=google.com; s=arc-20160816;\\\\r\\\\n        b=Y/Lp8ulKsdo3roiCNIhrZnxxUNn2kIvNKYBNPPY5jD+Kc/ySk4fGUwSJiBL8Q43rJ7\\\\r\\\\n         rj3FpYxN7UN40CibrZyAg2s3489bYpztWrgeFT23XH0VWKBb+DD/XGiwwzVwWx4cuZlY\\\\r\\\\n         TfFGrNsA6hY0BgPLTHJitQT9h3crtGV54yZx39+sRR0+PjW7TmafI5JYYdczCCfeR1Y1\\\\r\\\\n         a+JcfFAYdaYDO+GQeU/L7LpAuBxyhYnzR1nW1GZTIJRgZLaCmZqTEdmnZXBnlT+2R00e\\\\r\\\\n         JOkgxR6lkPENpyQeXxekC2P5xWr6RYSA0NrswMGRZJHl9XUL1/k14dW7f12ZEPFaOWoJ\\\\r\\\\n         M0ww==\\\\r\\\\nARC-Message-Signature: i=1; a=rsa-sha256; c=relaxed/relaxed; d=google.com; s=arc-20160816;\\\\r\\\\n        h=date:message-id:subject:mime-version:errors-to:reply-to:from:to\\\\r\\\\n         :dkim-signature;\\\\r\\\\n        bh=IgxF5ulShq1FcW982kQp8zWGNgEt/d2LVxPdvOj4qoI=;\\\\r\\\\n        b=USBwlVWGoAEPzHRbnMxFDar2EeIcu/ec3Y8hk6uaq45OjsKv5PbZ5KNIij4m9pOlGt\\\\r\\\\n         y5XEPvm5SXBFSq5sNUpNAN1LQ8WItdt2VsnFwht27MpTH/Pp1FYlvsbtcU+a2de3DsEE\\\\r\\\\n         xkA3tUadmPsZPArirgQ12OI9uzOjW1yRf/cuHDXLu6zIe7CwOMjan+hGkYHIAYgg15Lr\\\\r\\\\n         zYOntMrm4DPdGP3QoME/oCHbSQJ8fl/ZhHwMwsljF/CFu8VH51izccSInLqgyj1J1wdN\\\\r\\\\n         zrEocy1ppFnQA/vRv7pKubYC9YQnOvPR9DBrFoHv7kXwsJJtVS5jmrUpSdf95M5mHcmj\\\\r\\\\n         AMTw==\\\\r\\\\nARC-Authentication-Results: i=1; mx.google.com;\\\\r\\\\n       dkim=pass header.i=@steampowered.com header.s=smtp header.b=\"I/M9nBTL\";\\\\r\\\\n       spf=pass (google.com: domain of noreply@steampowered.com designates 208.64.202.53 as permitted sender) smtp.mailfrom=noreply@steampowered.com;\\\\r\\\\n       dmarc=pass (p=REJECT sp=REJECT dis=NONE) header.from=steampowered.com\\\\r\\\\nReturn-Path: <noreply@steampowered.com>\\\\r\\\\nReceived: from smtp-53.steampowered.com (smtp-53.steampowered.com. [208.64.202.53])\\\\r\\\\n        by mx.google.com with ESMTPS id a8si30034676pgm.98.2021.07.21.13.55.06\\\\r\\\\n        for <kunforever16@gmail.com>\\\\r\\\\n        (version=TLS1_2 cipher=ECDHE-ECDSA-CHACHA20-POLY1305 bits=256/256);\\\\r\\\\n        Wed, 21 Jul 2021 13:55:06 -0700 (PDT)\\\\r\\\\nReceived-SPF: pass (google.com: domain of noreply@steampowered.com designates 208.64.202.53 as permitted sender) client-ip=208.64.202.53;\\\\r\\\\nAuthentication-Results: mx.google.com;\\\\r\\\\n       dkim=pass header.i=@steampowered.com header.s=smtp header.b=\"I/M9nBTL\";\\\\r\\\\n       spf=pass (google.com: domain of noreply@steampowered.com designates 208.64.202.53 as permitted sender) smtp.mailfrom=noreply@steampowered.com;\\\\r\\\\n       dmarc=pass (p=REJECT sp=REJECT dis=NONE) header.from=steampowered.com\\\\r\\\\nDKIM-Signature: v=1; a=rsa-sha256; q=dns/txt; c=relaxed/relaxed;\\\\r\\\\n\\\\td=steampowered.com; s=smtp; h=Date:Message-Id:Content-Type:Subject:\\\\r\\\\n\\\\tMIME-Version:Reply-To:From:To:Sender:Cc:Content-Transfer-Encoding:Content-ID:\\\\r\\\\n\\\\tContent-Description:Resent-Date:Resent-From:Resent-Sender:Resent-To:Resent-Cc\\\\r\\\\n\\\\t:Resent-Message-ID:In-Reply-To:References:List-Id:List-Help:List-Unsubscribe:\\\\r\\\\n\\\\tList-Subscribe:List-Post:List-Owner:List-Archive;\\\\r\\\\n\\\\tbh=IgxF5ulShq1FcW982kQp8zWGNgEt/d2LVxPdvOj4qoI=; b=I/M9nBTLZQO/FKP1U0xh/KfYSL\\\\r\\\\n\\\\t24FuwG/V15uPZAXgJA+TH2j35HvEz43vYmZrTJhRULTEDQByoWtb8JvL6mHqR1vL+oQAK9f9QOofc\\\\r\\\\n\\\\tQozPPjlgVPFmWYt2J1kW+lPwDy8TIHMP0fm1LmJ2YDmpfalY5Hz7a5qnxxAx6xyTvDx4=;\\\\r\\\\nReceived: from [208.64.200.217] (helo=valvesoftware.com)\\\\r\\\\n\\\\tby smtp-03-tuk1.steampowered.com with smtp (Exim 4.90_1)\\\\r\\\\n\\\\t(envelope-from <noreply@steampowered.com>)\\\\r\\\\n\\\\tid 1m6JFC-0007BT-HE\\\\r\\\\n\\\\tfor kunforever16@gmail.com; Wed, 21 Jul 2021 13:55:06 -0700\\\\r\\\\nTo: kunforever16@gmail.com\\\\r\\\\nFrom: \"Steam Support\" <noreply@steampowered.com>\\\\r\\\\nReply-To: <noreply@steampowered.com>\\\\r\\\\nErrors-To: <noreply@steampowered.com>\\\\r\\\\nX-Steam-Message-Type: CEmailSteamGuard_Web\\\\r\\\\nMIME-Version: 1.0\\\\r\\\\nSubject: Your Steam account: Access from new web or mobile device\\\\r\\\\nContent-Type: multipart/alternative;\\\\r\\\\n boundary=\"np60f889aa7dd6c\"\\\\r\\\\nMessage-Id: <E1m6JFC-0007BT-HE@smtp-03-tuk1.steampowered.com>\\\\r\\\\nDate: Wed, 21 Jul 2021 13:55:06 -0700\\\\r\\\\n\\\\r\\\\nThis is a multi-part message in MIME format.\\\\r\\\\n--np60f889aa7dd6c\\\\r\\\\nContent-Type: text/plain; charset=UTF-8; format=flowed\\\\r\\\\nContent-Transfer-Encoding: 7bit\\\\r\\\\n\\\\r\\\\n\\\\r\\\\nDear kunforever16,\\\\r\\\\n\\\\r\\\\nHere is the Steam Guard code you need to login to account kunforever16:\\\\r\\\\n\\\\r\\\\n4T35R\\\\r\\\\n\\\\r\\\\nThis email was generated because of a login attempt from a web or mobile device located at 155.33.134.69 (US).  The login attempt included your correct account name and password.\\\\r\\\\n\\\\r\\\\nhttps://steamcommunity.com/actions/ReportSuspiciousLogin?stoken=ece7f0a7c07e1df15790e46ab7f8363a17b2685220cb0d6a4b751f5f2870d7ff6518d5a45d0b7465c307ae339351353e3741d764ed5e8effc4689b6ee9bd70dbf569ab3e1bbec0c41d9fc8a6d0daf5d921327ea1fcdd0a5dbd83b84d22b5149f\\\\r\\\\n\\\\r\\\\nThe Steam Guard code is required to complete the login.  No one can access your account without also accessing this email.\\\\r\\\\n\\\\r\\\\nIf you are not attempting to log in then please change your Steam password, and consider changing your email password as well to ensure your account security.\\\\r\\\\n\\\\r\\\\nIf you are unable to access your account then use this account specific recovery link for assistance recovering or self-locking your account.\\\\r\\\\n\\\\r\\\\nhttps://help.steampowered.com/wizard/HelpUnauthorizedLogin?stoken=C2FLQThUMtblYIX9ARdIXfiAaRmlZ9voLKfGrd6eeYXPWYb30eg2quF%2BLwpTyIEkaml7qE4u9ancEybVjUVmiChdychOlE0kEGRJx2FSMvA%3D\\\\r\\\\n\\\\r\\\\nCheers,\\\\r\\\\nThe Steam Team\\\\r\\\\n\\\\r\\\\n--\\\\r\\\\n\\\\r\\\\nThis notification has been sent to the email address associated with your Steam account.\\\\r\\\\n\\\\r\\\\nThis email message was auto-generated. Please do not respond. If you need additional help, please visit Steam Support.\\\\r\\\\nhttps://help.steampowered.com\\\\r\\\\n\\\\r\\\\n\\\\xc2\\\\xa9 Valve Corporation\\\\r\\\\nAll rights reserved. All trademarks are property of their respective owners in the US and other countries.\\\\r\\\\n\\\\r\\\\n--\\\\r\\\\n\\\\r\\\\nView this message on the web:\\\\r\\\\nhttps://store.steampowered.com/email/codefornewwebloginwithiplocwarning?sparams=eJyFUl1v0zAU_StTpb2h1o5jO5mEoIxuDFoB7To21Bd_XDemSZw5zkaG-O84JQ-bhMSbfe65R-fce39NStHVqgAf-gYmZxM0eTXxIMoqvvelk6KMQOOd7lSoRTVQNgFEFdG2axrnA1TClhEev2_body4R_Cgp8o9Y7Y2DP1FCE17tpvtZgWUzfQf_FG0hTp0QcUWzBKWI5QjNqiB8hCU04NYek3oegD3I3B0d3LZCa9PjlC0X4oe_Oj-0NXGeXgAj9kx6-CsKWxblLY-vLB3dBYdVV1tQz94282ECtbV7W62PjZuuraxyrquXbq9rd-0wR2gfg0KuEGCK8QBa4MpzxGkTEhuMsKIwFwmLKNJgpREmolUcooNNUnGkebGMIozTUVKNZI8ZVQRxAUQkhOKCSVAeIo1ZyloChkYo1KW5ZIB5FJHBWkoy4UkgKUEhVQk50ZlgmmkhaE6TzBJOAhslNZIUC11RmSW6iSRFKe5iYMZdtPVoguF8_YJtFAK2vb_69vNHu1THP5u9iGWt88UXkzoPLlYfr0utqsgy7ur23y-1le3xs7Fuiq_5w9u-clceh0T3d1--XYnCYJ9ct9dnCbvlo_NdX-1OIiq5PeLtMtFrRa9vPmxvanseaF7VXwuF-iwuFx__JlcbFYP81PyPiayjdDa_w2BKZ0SMsUknbI81pTr6uD78Ua2m-GigggwAqv5wIlHMP7PRSW91XuY_P4D5hUVVg\\\\r\\\\n\\\\r\\\\n--np60f889aa7dd6c\\\\r\\\\nContent-Type: text/html; charset=UTF-8\\\\r\\\\nContent-Transfer-Encoding: 7bit\\\\r\\\\n\\\\r\\\\n<!DOCTYPE html PUBLIC \"-//W3C//DTD XHTML 1.0 Transitional//EN\" \"http://www.w3.org/TR/xhtml1/DTD/xhtml1-transitional.dtd\">\\\\r\\\\n<html xmlns=\"http://www.w3.org/1999/xhtml\" xmlns:v=\"urn:schemas-microsoft-com:vml\" xmlns:o=\"urn:schemas-microsoft-com:office:office\">\\\\r\\\\n<head>\\\\r\\\\n    <!--[if gte mso 9]>\\\\r\\\\n    <xml>\\\\r\\\\n        <o:OfficeDocumentSettings>\\\\r\\\\n            <o:AllowPNG/>\\\\r\\\\n            <o:PixelsPerInch>96</o:PixelsPerInch>\\\\r\\\\n        </o:OfficeDocumentSettings>\\\\r\\\\n    </xml>\\\\r\\\\n    <![endif]-->\\\\r\\\\n    <meta http-equiv=\"Content-type\" content=\"text/html; charset=utf-8\" />\\\\r\\\\n    <meta name=\"viewport\" content=\"width=device-width, initial-scale=1, maximum-scale=1\" />\\\\r\\\\n    <meta http-equiv=\"X-UA-Compatible\" content=\"IE=edge\" />\\\\r\\\\n    <meta name=\"format-detection\" content=\"date=no\" />\\\\r\\\\n    <meta name=\"format-detection\" content=\"address=no\" />\\\\r\\\\n    <meta name=\"format-detection\" content=\"telephone=no\" />\\\\r\\\\n    <meta name=\"x-apple-disable-message-reformatting\" />\\\\r\\\\n    <title>Your Steam account: Access from new web or mobile device</title>\\\\r\\\\n    <!--[if gte mso 9]>\\\\r\\\\n    <style type=\"text/css\" media=\"all\">\\\\r\\\\n        sup { font-size: 100% !important; }\\\\r\\\\n    </style>\\\\r\\\\n    <![endif]-->\\\\r\\\\n\\\\r\\\\n    <!--[if !mso]><!-->\\\\r\\\\n    <style type=\"text/css\" media=\"screen\">\\\\r\\\\n        @font-face {\\\\r\\\\n            font-family: \\\\\\'Motiva Sans\\\\\\';\\\\r\\\\n            font-style: normal;\\\\r\\\\n            font-weight: 300;\\\\r\\\\n            src: local(\\\\\\'Motiva Sans\\\\\\'), url(\\\\\\'https://store.cloudflare.steamstatic.com/public/shared/fonts/email/MotivaSans-Light.woff\\\\\\') format(\\\\\\'woff\\\\\\');\\\\r\\\\n        }\\\\r\\\\n\\\\r\\\\n        @font-face {\\\\r\\\\n            font-family: \\\\\\'Motiva Sans\\\\\\';\\\\r\\\\n            font-style: normal;\\\\r\\\\n            font-weight: normal;\\\\r\\\\n            src: local(\\\\\\'Motiva Sans\\\\\\'), url(\\\\\\'https://store.cloudflare.steamstatic.com//public/shared/fonts/email/MotivaSans-Regular.woff\\\\\\') format(\\\\\\'woff\\\\\\');\\\\r\\\\n        }\\\\r\\\\n\\\\r\\\\n        @font-face {\\\\r\\\\n            font-family: \\\\\\'Motiva Sans\\\\\\';\\\\r\\\\n            font-style: normal;\\\\r\\\\n            font-weight: bold;\\\\r\\\\n            src: local(\\\\\\'Motiva Sans\\\\\\'), url(\\\\\\'https://store.cloudflare.steamstatic.com//public/shared/fonts/email/MotivaSans-Bold.woff\\\\\\') format(\\\\\\'woff\\\\\\');\\\\r\\\\n        }\\\\r\\\\n    </style>\\\\r\\\\n    <!--<![endif]-->\\\\r\\\\n\\\\r\\\\n    <style type=\"text/css\" media=\"screen\">\\\\r\\\\n        body { padding:0 !important; margin:0 auto !important; display:block !important; min-width:100% !important; width:100% !important; background:#ffffff; -webkit-text-size-adjust:none }\\\\r\\\\n        a { color:#3999ec; text-decoration:underline }\\\\r\\\\n        body a { color:#ffffff; text-decoration:underline }\\\\r\\\\n        img { margin: 0 !important; -ms-interpolation-mode: bicubic; /* Allow smoother rendering of resized image in Internet Explorer */ }\\\\r\\\\n\\\\r\\\\n        /* for recepits */\\\\r\\\\n            table { mso-table-lspace:0pt; mso-table-rspace:0pt; }\\\\r\\\\n            img, a img{ border:0; outline:none; text-decoration:none; }\\\\r\\\\n            #outlook a { padding:0; }\\\\r\\\\n            .ReadMsgBody { width:100%; }\\\\r\\\\n            .ExternalClass { width:100%; }\\\\r\\\\n            div,p,a,li,td,blockquote { mso-line-height-rule:exactly; }\\\\r\\\\n            a[href^=tel],a[href^=sms] { color:inherit; text-decoration:none; }\\\\r\\\\n            .ExternalClass, .ExternalClass p, .ExternalClass td, .ExternalClass div, .ExternalClass span, .ExternalClass font { line-height:100%; }\\\\r\\\\n        /* END for recepits */\\\\r\\\\n\\\\r\\\\n        a[x-apple-data-detectors] { color: inherit !important; text-decoration: inherit !important; font-size: inherit !important; font-family: inherit !important; font-weight: inherit !important; line-height: inherit !important; }\\\\r\\\\n\\\\r\\\\n        .btn-18 a { display: block; padding: 13px 35px; text-decoration: none; }\\\\r\\\\n\\\\r\\\\n        .l-white a { color: #ffffff; }\\\\r\\\\n        .l-black a { color: #000001; }\\\\r\\\\n        .l-grey1 a { color: #dbdee2; }\\\\r\\\\n        .l-grey2 a { color: #a1a2a4; }\\\\r\\\\n        .l-grey3 a { color: #dadcdd; }\\\\r\\\\n        .l-grey4 a { color: #f1f1f1; }\\\\r\\\\n        .l-grey5 a { color: #dddedf; }\\\\r\\\\n        .l-grey6 a { color: #bfbfbf; }\\\\r\\\\n        .l-grey7 a { color: #dcdddd; }\\\\r\\\\n        .l-grey8 a { color: #8e96a4; }\\\\r\\\\n        .l-green a { color: #a4d007; }\\\\r\\\\n        .l-blue a { color: #6a7c96; }\\\\r\\\\n        .l-blue1 a { color: #3999ec; }\\\\r\\\\n        .l-blue2 a { color: #9eb8cc; }\\\\r\\\\n\\\\r\\\\n\\\\r\\\\n        /* Mobile styles */\\\\r\\\\n        @media only screen and (max-device-width: 480px), only screen and (max-width: 480px) {\\\\r\\\\n            .mpy-35 { padding-top: 35px !important; padding-bottom: 35px !important; }\\\\r\\\\n\\\\r\\\\n            .mpx-15 { padding-left: 15px !important; padding-right: 15px !important; }\\\\r\\\\n\\\\r\\\\n            .mpx-20 { padding-left: 20px !important; padding-right: 20px !important; }\\\\r\\\\n\\\\r\\\\n            .mpb-30 { padding-bottom: 30px !important; }\\\\r\\\\n\\\\r\\\\n            .mpb-10 { padding-bottom: 10px !important; }\\\\r\\\\n\\\\r\\\\n            .mpb-15 { padding-bottom: 15px !important; }\\\\r\\\\n\\\\r\\\\n            .mpb-20 { padding-bottom: 20px !important; }\\\\r\\\\n\\\\r\\\\n            .mpb-35 { padding-bottom: 35px !important; }\\\\r\\\\n\\\\r\\\\n            .mpb-40 { padding-bottom: 40px !important; }\\\\r\\\\n\\\\r\\\\n            .mpb-50 { padding-bottom: 50px !important; }\\\\r\\\\n\\\\r\\\\n            .mpb-60 { padding-bottom: 60px !important; }\\\\r\\\\n\\\\r\\\\n            .mpt-30 { padding-top: 30px !important; }\\\\r\\\\n\\\\r\\\\n            .mpt-40 { padding-top: 40px !important; }\\\\r\\\\n\\\\r\\\\n            .mpy-40 { padding-top: 40px !important; padding-bottom: 40px !important; }\\\\r\\\\n\\\\r\\\\n            .mpt-0 { padding-top: 0px !important; }\\\\r\\\\n\\\\r\\\\n            .mpr-0 { padding-right: 0px !important; }\\\\r\\\\n\\\\r\\\\n            .mfz-14 { font-size: 14px !important; }\\\\r\\\\n\\\\r\\\\n            .mfz-28 { font-size: 28px !important; }\\\\r\\\\n\\\\r\\\\n            .mfz-16 { font-size: 16px !important; }\\\\r\\\\n\\\\r\\\\n            .mfz-24 { font-size: 24px !important; }\\\\r\\\\n\\\\r\\\\n            .mlh-18 { line-height: 18px !important; }\\\\r\\\\n\\\\r\\\\n            u + body .gwfw { width:100% !important; width:100vw !important; }\\\\r\\\\n\\\\r\\\\n            .td,\\\\r\\\\n            .m-shell { width: 100% !important; min-width: 100% !important; }\\\\r\\\\n\\\\r\\\\n            .mt-left { text-align: left !important; }\\\\r\\\\n            .mt-center { text-align: center !important; }\\\\r\\\\n            .mt-right { text-align: right !important; }\\\\r\\\\n\\\\r\\\\n            .m-left { text-align: left !important; }\\\\r\\\\n            .me-left { margin-right: auto !important; }\\\\r\\\\n            .me-center { margin: 0 auto !important; }\\\\r\\\\n            .me-right { margin-left: auto !important; }\\\\r\\\\n\\\\r\\\\n            .mh-auto { height: auto !important; }\\\\r\\\\n            .mw-auto { width: auto !important; }\\\\r\\\\n\\\\r\\\\n            .fluid-img img { width: 100% !important; max-width: 100% !important; height: auto !important; }\\\\r\\\\n\\\\r\\\\n            .column,\\\\r\\\\n            .column-top,\\\\r\\\\n            .column-dir,\\\\r\\\\n            .column-dir-top { float: left !important; width: 100% !important; display: block !important; }\\\\r\\\\n\\\\r\\\\n            .kmMobileStretch { float: left !important; width: 100% !important; display: block !important; padding-left: 0 !important; padding-right: 0 !important; }\\\\r\\\\n\\\\r\\\\n            .m-hide { display: none !important; width: 0 !important; height: 0 !important; font-size: 0 !important; line-height: 0 !important; min-height: 0 !important; }\\\\r\\\\n            .m-block { display: block !important; }\\\\r\\\\n\\\\r\\\\n            .mw-15 { width: 15px !important; }\\\\r\\\\n\\\\r\\\\n            .mw-2p { width: 2% !important; }\\\\r\\\\n            .mw-32p { width: 32% !important; }\\\\r\\\\n            .mw-49p { width: 49% !important; }\\\\r\\\\n            .mw-50p { width: 50% !important; }\\\\r\\\\n            .mw-100p { width: 100% !important; }\\\\r\\\\n\\\\r\\\\n            .mbgs-200p { background-size: 200% auto !important; }\\\\r\\\\n        }\\\\r\\\\n    </style>\\\\r\\\\n</head>\\\\r\\\\n\\\\r\\\\n\\\\r\\\\n<body class=\"body\" style=\"padding:0 !important; margin:0 auto !important; display:block !important; min-width:100% !important; width:100% !important; background:#ffffff; -webkit-text-size-adjust:none;\">\\\\r\\\\n<center>\\\\r\\\\n    <table width=\"100%\" border=\"0\" cellspacing=\"0\" cellpadding=\"0\"style=\"margin: 0; padding: 0; width: 100%; height: 100%;\" bgcolor=\"#ffffff\" class=\"gwfw\">\\\\r\\\\n        <tr>\\\\r\\\\n            <td style=\"margin: 0; padding: 0; width: 100%; height: 100%;\" align=\"center\" valign=\"top\">\\\\r\\\\n                <table width=\"775\" border=\"0\" cellspacing=\"0\" cellpadding=\"0\"class=\"m-shell\">\\\\r\\\\n                    <tr>\\\\r\\\\n                        <td class=\"td\" style=\"width:775px; min-width:775px; font-size:0pt; line-height:0pt; padding:0; margin:0; font-weight:normal;\">\\\\r\\\\n                            <table width=\"100%\" border=\"0\" cellspacing=\"0\" cellpadding=\"0\">\\\\r\\\\n                                <!-- Main -->\\\\r\\\\n                                <tr>\\\\r\\\\n                                    <td class=\"p-80 mpy-35 mpx-15\" bgcolor=\"#212429\" style=\"padding: 80px;\">\\\\r\\\\n                                        <table width=\"100%\" border=\"0\" cellspacing=\"0\" cellpadding=\"0\">\\\\r\\\\n\\\\r\\\\n                                            <!-- Logo -->\\\\r\\\\n                                            <tr>\\\\r\\\\n                                                <td class=\"img pb-45\" style=\"font-size:0pt; line-height:0pt; text-align:left; padding-bottom: 45px;\">\\\\r\\\\n                                                    <a href=\"https://store.steampowered.com/\" target=\"_blank\">\\\\r\\\\n                                                        <img src=\"https://store.cloudflare.steamstatic.com/public/shared/images/email/logo.png\" width=\"615\" height=\"88\" border=\"0\" alt=\"Steam\" />\\\\r\\\\n                                                    </a>\\\\r\\\\n\\\\r\\\\n                                                </td>\\\\r\\\\n                                            </tr>\\\\r\\\\n                                            <!-- END Logo -->\\\\r\\\\n\\\\r\\\\n                                            <!-- All Content Exists within this table column -->\\\\r\\\\n                                            <tr>\\\\r\\\\n                                                <td>\\\\r\\\\n\\\\r\\\\n\\\\t\\\\t\\\\t<table width=\"100%\" border=\"0\" cellspacing=\"0\" cellpadding=\"0\">\\\\r\\\\n\\\\t\\\\t\\\\t\\\\t<tr>\\\\r\\\\n\\\\t\\\\t\\\\t\\\\t\\\\t<td class=\"title-36 pb-30 c-grey6 fw-b\" style=\"font-size:36px; line-height:42px; font-family:\\\\\\'Motiva Sans\\\\\\', Helvetica, Arial, sans-serif; text-align:left; padding-bottom: 30px; color:#bfbfbf; font-weight:bold;\">Dear kunforever16,</td>\\\\r\\\\n\\\\t\\\\t\\\\t\\\\t</tr>\\\\r\\\\n\\\\t\\\\t\\\\t</table>\\\\r\\\\n\\\\t\\\\t\\\\t\\\\t\\\\t\\\\t<table width=\"100%\" border=\"0\" cellspacing=\"0\" cellpadding=\"0\">\\\\r\\\\n\\\\t\\\\t\\\\t\\\\t<tr>\\\\r\\\\n\\\\t\\\\t\\\\t\\\\t\\\\t<td class=\"text-18 c-grey4 pb-30\" style=\"font-size:18px; line-height:25px; font-family:\\\\\\'Motiva Sans\\\\\\', Helvetica, Arial, sans-serif; text-align:left; color:#dbdbdb; padding-bottom: 30px;\">Here is the Steam Guard code you need to login to account kunforever16:</td>\\\\r\\\\n\\\\t\\\\t\\\\t\\\\t</tr>\\\\r\\\\n\\\\t\\\\t\\\\t</table>\\\\r\\\\n\\\\t\\\\t\\\\t\\\\t\\\\t\\\\t<table width=\"100%\" border=\"0\" cellspacing=\"0\" cellpadding=\"0\">\\\\r\\\\n\\\\t\\\\t\\\\t\\\\t<tr>\\\\r\\\\n\\\\t\\\\t\\\\t\\\\t\\\\t<td class=\"pb-70 mpb-50\" style=\"padding-bottom: 70px;\">\\\\r\\\\n\\\\t\\\\t\\\\t\\\\t\\\\t\\\\t<table width=\"100%\" border=\"0\" cellspacing=\"0\" cellpadding=\"0\"bgcolor=\"#17191c\">\\\\r\\\\n\\\\t\\\\t\\\\t\\\\t\\\\t\\\\t\\\\t<tr>\\\\r\\\\n\\\\t\\\\t\\\\t\\\\t\\\\t\\\\t\\\\t\\\\t<td class=\"py-30 px-56\" style=\"padding-top: 30px; padding-bottom: 30px; padding-left: 56px; padding-right: 56px;\">\\\\r\\\\n\\\\t\\\\t\\\\t\\\\t\\\\t\\\\t\\\\t\\\\t\\\\t<table width=\"100%\" border=\"0\" cellspacing=\"0\" cellpadding=\"0\">\\\\r\\\\n\\\\t\\\\t\\\\t\\\\t\\\\t\\\\t\\\\t\\\\t\\\\t\\\\t<tr>\\\\r\\\\n\\\\t\\\\t\\\\t\\\\t\\\\t\\\\t\\\\t\\\\t\\\\t\\\\t\\\\t<td class=\"title-48 c-blue1 fw-b a-center\" style=\"font-size:48px; line-height:52px; font-family:\\\\\\'Motiva Sans\\\\\\', Helvetica, Arial, sans-serif; color:#3a9aed; font-weight:bold; text-align:center;\">\\\\r\\\\n\\\\t\\\\t\\\\t\\\\t\\\\t\\\\t\\\\t\\\\t\\\\t\\\\t\\\\t\\\\t4T35R\\\\t\\\\t\\\\t\\\\t\\\\t\\\\t\\\\t\\\\t\\\\t\\\\t\\\\t</td>\\\\r\\\\n\\\\t\\\\t\\\\t\\\\t\\\\t\\\\t\\\\t\\\\t\\\\t\\\\t</tr>\\\\r\\\\n\\\\t\\\\t\\\\t\\\\t\\\\t\\\\t\\\\t\\\\t\\\\t</table>\\\\r\\\\n\\\\t\\\\t\\\\t\\\\t\\\\t\\\\t\\\\t\\\\t</td>\\\\r\\\\n\\\\t\\\\t\\\\t\\\\t\\\\t\\\\t\\\\t</tr>\\\\r\\\\n\\\\t\\\\t\\\\t\\\\t\\\\t\\\\t</table>\\\\r\\\\n\\\\t\\\\t\\\\t\\\\t\\\\t</td>\\\\r\\\\n\\\\t\\\\t\\\\t\\\\t</tr>\\\\r\\\\n\\\\t\\\\t\\\\t</table>\\\\r\\\\n\\\\t\\\\t\\\\t\\\\t\\\\t\\\\t<table width=\"100%\" border=\"0\" cellspacing=\"0\" cellpadding=\"0\">\\\\r\\\\n\\\\t\\\\t\\\\t\\\\t<tr>\\\\r\\\\n\\\\t\\\\t\\\\t\\\\t\\\\t<td class=\"text-18 c-grey4 pb-30\" style=\"font-size:18px; line-height:25px; font-family:\\\\\\'Motiva Sans\\\\\\', Helvetica, Arial, sans-serif; text-align:left; color:#dbdbdb; padding-bottom: 30px;\">This email was generated because of a login attempt from a web or mobile device <a style=\"color: #c6d4df;\" href=\"https://steamcommunity.com/actions/ReportSuspiciousLogin?stoken=ece7f0a7c07e1df15790e46ab7f8363a17b2685220cb0d6a4b751f5f2870d7ff6518d5a45d0b7465c307ae339351353e3741d764ed5e8effc4689b6ee9bd70dbf569ab3e1bbec0c41d9fc8a6d0daf5d921327ea1fcdd0a5dbd83b84d22b5149f\">located at 155.33.134.69 (US).</a>  The login attempt included your correct account name and password.<br><br>\\\\r\\\\nThe Steam Guard code is required to complete the login.  <span style=\"color: #ffffff; font-weight: bold;\">No one can access your account without also accessing this email.</span><br><br>\\\\r\\\\n<span style=\"color: #ffffff; font-weight: bold;\">If you are not attempting to log in</span> then please change your Steam password, and consider changing your email password as well to ensure your account security.</td>\\\\r\\\\n\\\\t\\\\t\\\\t\\\\t</tr>\\\\r\\\\n\\\\t\\\\t\\\\t</table>\\\\r\\\\n\\\\t\\\\t\\\\t            <table width=\"100%\" border=\"0\" cellspacing=\"0\" cellpadding=\"0\">\\\\r\\\\n                <tr>\\\\r\\\\n                    <td class=\"text-18 c-blue1 pb-40\" style=\"font-size:18px; line-height:25px; font-family:\\\\\\'Motiva Sans\\\\\\', Helvetica, Arial, sans-serif; text-align:left; color:#3a9aed; padding-bottom: 40px;\"></td>\\\\r\\\\n                </tr>\\\\r\\\\n            </table>\\\\r\\\\n            \\\\r\\\\n                                                                                                <!-- Signature -->\\\\r\\\\n                                                <table width=\"100%\" border=\"0\" cellspacing=\"0\" cellpadding=\"0\">\\\\r\\\\n                                                    <tr>\\\\r\\\\n                                                        <td class=\"pt-30\" style=\"padding-top: 30px;\">\\\\r\\\\n                                                            <table width=\"100%\" border=\"0\" cellspacing=\"0\" cellpadding=\"0\">\\\\r\\\\n                                                                <tr>\\\\r\\\\n                                                                    <td class=\"img\" width=\"3\" bgcolor=\"#3a9aed\" style=\"font-size:0pt; line-height:0pt; text-align:left;\"></td>\\\\r\\\\n                                                                    <td class=\"img\" width=\"37\" style=\"font-size:0pt; line-height:0pt; text-align:left;\"></td>\\\\r\\\\n                                                                    <td>\\\\r\\\\n                                                                        <table width=\"100%\" border=\"0\" cellspacing=\"0\" cellpadding=\"0\">\\\\r\\\\n                                                                            <tr>\\\\r\\\\n                                                                                                                                                                    <td class=\"text-16 py-20 c-grey4 fallback-font\" style=\"font-size:16px; line-height:22px; font-family:\\\\\\'Motiva Sans\\\\\\', Helvetica, Arial, sans-serif; text-align:left; padding-top: 20px; padding-bottom: 20px; color:#f1f1f1;\">\\\\r\\\\n                                                                                        Cheers,<br />\\\\r\\\\nThe Steam Team                                                                                    </td>\\\\r\\\\n                                                                                                                                                            </tr>\\\\r\\\\n                                                                        </table>\\\\r\\\\n                                                                    </td>\\\\r\\\\n                                                                </tr>\\\\r\\\\n                                                            </table>\\\\r\\\\n                                                        </td>\\\\r\\\\n                                                    </tr>\\\\r\\\\n                                                </table>\\\\r\\\\n                                                <!-- END Signature -->\\\\r\\\\n                                                \\\\r\\\\n                                                </td>\\\\r\\\\n                                            </tr>\\\\r\\\\n\\\\r\\\\n                                        </table>\\\\r\\\\n                                    </td>\\\\r\\\\n                                </tr>\\\\r\\\\n                                <!-- END Main -->\\\\r\\\\n\\\\r\\\\n                                <!-- Footer -->\\\\r\\\\n                                <tr>\\\\r\\\\n                                    <td class=\"py-60 px-90 mpy-40 mpx-15\" style=\"padding-top: 60px; padding-bottom: 60px; padding-left: 90px; padding-right: 90px;\">\\\\r\\\\n                                        <table width=\"100%\" border=\"0\" cellspacing=\"0\" cellpadding=\"0\">\\\\r\\\\n\\\\r\\\\n                                                                                        <tr>\\\\r\\\\n                                                <td class=\"text-18 pb-60 mpb-40 fallback-font\" style=\"font-size:18px; line-height:25px; color:#000001; font-family:\\\\\\'Motiva Sans\\\\\\', Helvetica, Arial, sans-serif; text-align:left; padding-bottom: 60px;\">\\\\r\\\\n\\\\t\\\\t\\\\t                                        This notification has been sent to the email address associated with your Steam account.                                                    <br /><br />\\\\r\\\\n\\\\t\\\\t\\\\t                                        This email message was auto-generated. Please do not respond. If you need additional help, please visit Steam Support.                                                </td>\\\\r\\\\n                                            </tr>\\\\r\\\\n                                            \\\\r\\\\n                                                                                        <!-- A -->\\\\r\\\\n                                                                                        <tr>\\\\r\\\\n                                            <td class=\"pb-60\" style=\"padding-bottom: 60px;\">\\\\r\\\\n                                                <table width=\"100%\" border=\"0\" cellspacing=\"0\" cellpadding=\"0\">\\\\r\\\\n                                                    <tr>\\\\r\\\\n                                                        <th class=\"column\" width=\"270\" style=\"font-size:0pt; line-height:0pt; padding:0; margin:0; font-weight:normal;\">\\\\r\\\\n                                                            <table width=\"100%\" border=\"0\" cellspacing=\"0\" cellpadding=\"0\">\\\\r\\\\n                                                                <tr>\\\\r\\\\n                                                                    <td class=\"text-18 mpb-40 fallback-font\" style=\"font-size:18px; line-height:25px; color:#000001; font-family:\\\\\\'Motiva Sans\\\\\\', Helvetica, Arial, sans-serif; text-align:left;\">\\\\r\\\\n                                                                        <a href=\"https://help.steampowered.com\" target=\"_blank\" class=\"link-u c-black\" style=\"text-decoration:underline; color:#000001;\">\\\\r\\\\n                                                                            <span class=\"link-u c-black\" style=\"text-decoration:underline; color:#000001;\">https://help.steampowered.com</span>\\\\r\\\\n                                                                        </a>\\\\r\\\\n                                                                    </td>\\\\r\\\\n                                                                </tr>\\\\r\\\\n                                                            </table>\\\\r\\\\n                                                        </th>\\\\r\\\\n                                                                                                            </tr>\\\\r\\\\n                                                </table>\\\\r\\\\n                                            </td>\\\\r\\\\n                                            </tr>\\\\r\\\\n                                            \\\\r\\\\n\\\\r\\\\n                                            <!-- B -->\\\\r\\\\n                                                                                            <tr>\\\\r\\\\n                                                    <td class=\"pb-50\" style=\"padding-bottom: 50px;\">\\\\r\\\\n                                                        <table width=\"100%\" border=\"0\" cellspacing=\"0\" cellpadding=\"0\">\\\\r\\\\n                                                            <tr>\\\\r\\\\n                                                                <th class=\"column\" width=\"270\" valign=\"top\" style=\"font-size:0pt; line-height:0pt; padding:0; margin:0; font-weight:normal; vertical-align:top;\">\\\\r\\\\n                                                                    <table width=\"100%\" border=\"0\" cellspacing=\"0\" cellpadding=\"0\">\\\\r\\\\n                                                                        <tr>\\\\r\\\\n                                                                            <td class=\"img mpt-0\" style=\"font-size:0pt; line-height:0pt; text-align:left;\">\\\\r\\\\n                                                                                <a href=\"https://store.steampowered.com/\" target=\"_blank\"><img src=\"https://store.cloudflare.steamstatic.com/public/shared/images/email/logo_footer.png\" width=\"165\" height=\"50\" border=\"0\" alt=\"\" /></a>\\\\r\\\\n                                                                            </td>\\\\r\\\\n                                                                        </tr>\\\\r\\\\n                                                                    </table>\\\\r\\\\n                                                                </th>\\\\r\\\\n                                                                <th class=\"column-top mpb-40\" width=\"15\" style=\"font-size:0pt; line-height:0pt; padding:0; margin:0; font-weight:normal; vertical-align:top;\"></th>\\\\r\\\\n                                                                <th class=\"column\" style=\"font-size:0pt; line-height:0pt; padding:0; margin:0; font-weight:normal;\">\\\\r\\\\n                                                                    <table width=\"100%\" border=\"0\" cellspacing=\"0\" cellpadding=\"0\">\\\\r\\\\n                                                                                                                                                    <tr>\\\\r\\\\n                                                                                <td class=\"text-12 fallback-font\" style=\"font-size:12px; line-height:18px; color:#000001; font-family:\\\\\\'Motiva Sans\\\\\\', Helvetica, Arial, sans-serif; text-align:left;\">\\\\r\\\\n                                                                                                                                                                            To download the Steam desktop client and learn more about Steam, please visit About Steam.                                                                                        <br /><br />\\\\r\\\\n                                                                                        <a href=\"https://store.steampowered.com/about/\" target=\"_blank\" class=\"link-u c-black\" style=\"text-decoration:underline; color:#000001;\">\\\\r\\\\n                                                                                            <span class=\"link-u c-black\" style=\"text-decoration:underline; color:#000001;\"><strong>About Steam</strong>\\\\r\\\\n                                                                                            </span>\\\\r\\\\n                                                                                        </a>\\\\r\\\\n                                                                                                                                                                    </td>\\\\r\\\\n                                                                            </tr>\\\\r\\\\n                                                                                                                                            </table>\\\\r\\\\n                                                                </th>\\\\r\\\\n                                                            </tr>\\\\r\\\\n                                                        </table>\\\\r\\\\n                                                    </td>\\\\r\\\\n                                                </tr>\\\\r\\\\n\\\\r\\\\n                                            \\\\r\\\\n\\\\r\\\\n                                            <!-- C -->\\\\r\\\\n                                            <tr>\\\\r\\\\n                                                <td>\\\\r\\\\n                                                    <table width=\"100%\" border=\"0\" cellspacing=\"0\" cellpadding=\"0\">\\\\r\\\\n                                                        <tr>\\\\r\\\\n                                                            <th class=\"column-top\" valign=\"top\" width=\"270\" style=\"font-size:0pt; line-height:0pt; padding:0; margin:0; font-weight:normal; vertical-align:top;\">\\\\r\\\\n                                                                <table width=\"100%\" border=\"0\" cellspacing=\"0\" cellpadding=\"0\">\\\\r\\\\n                                                                    <tr>\\\\r\\\\n                                                                        <td class=\"img\" style=\"font-size:0pt; line-height:0pt; text-align:left;\">\\\\r\\\\n                                                                            <a href=\"https://www.valvesoftware.com/en/\" target=\"_blank\">\\\\r\\\\n                                                                                                                                                                <img src=\"https://store.cloudflare.steamstatic.com/public/shared/images/email/logo_valve.jpg\" width=\"165\" height=\"48\" border=\"0\" alt=\"\" />\\\\r\\\\n                                                                                                                                                            </a>\\\\r\\\\n                                                                        </td>\\\\r\\\\n                                                                    </tr>\\\\r\\\\n                                                                </table>\\\\r\\\\n                                                            </th>\\\\r\\\\n                                                            <th class=\"column-top mpb-40\" valign=\"top\" width=\"15\" style=\"font-size:0pt; line-height:0pt; padding:0; margin:0; font-weight:normal; vertical-align:top;\"></th>\\\\r\\\\n                                                            <th class=\"column-top\" valign=\"top\" style=\"font-size:0pt; line-height:0pt; padding:0; margin:0; font-weight:normal; vertical-align:top;\">\\\\r\\\\n                                                                <table width=\"100%\" border=\"0\" cellspacing=\"0\" cellpadding=\"0\">\\\\r\\\\n                                                                    <tr>\\\\r\\\\n                                                                        <td class=\"text-12 pb-30 fallback-font\" style=\"font-size:12px; line-height:18px; color:#000001; font-family:\\\\\\'Motiva Sans\\\\\\', Helvetica, Arial, sans-serif; text-align:left; padding-bottom: 30px;\">\\\\r\\\\n\\\\t                                                                                                                                                        <strong>\\\\xc2\\\\xa9 Valve Corporation</strong>\\\\r\\\\n                                                                                <br />\\\\r\\\\n                                                                                <strong>PO Box 1688 Bellevue, WA 98009</strong>\\\\r\\\\n                                                                                <br /><br />\\\\r\\\\n\\\\t\\\\t                                                                        All rights reserved. All trademarks are property of their respective owners in the US and other countries.\\\\t                                                                                                                                                </td>\\\\r\\\\n                                                                    </tr>\\\\r\\\\n                                                                    \\\\r\\\\n                                                                </table>\\\\r\\\\n                                                            </th>\\\\r\\\\n                                                        </tr>\\\\r\\\\n                                                    </table>\\\\r\\\\n                                                </td>\\\\r\\\\n                                            </tr>\\\\r\\\\n                                        </table>\\\\r\\\\n                                    </td>\\\\r\\\\n                                </tr>\\\\r\\\\n                            <!-- END Footer -->\\\\r\\\\n                            </table>\\\\r\\\\n                        </td>\\\\r\\\\n                    </tr>\\\\r\\\\n                </table>\\\\r\\\\n            </td>\\\\r\\\\n        </tr>\\\\r\\\\n    </table>\\\\r\\\\n</center>\\\\r\\\\n\\\\r\\\\n    <center style=\"font-family:\\\\\\'Motiva Sans\\\\\\', Helvetica, Arial, sans-serif; color: #000000; font-size: 11px; margin-bottom: 4px;\">\\\\r\\\\n        Trouble viewing this message?        <a href=\"https://store.steampowered.com/email/codefornewwebloginwithiplocwarning?sparams=eJyFUl1v0zAU_StTpb2h1o5jO5mEoIxuDFoB7To21Bd_XDemSZw5zkaG-O84JQ-bhMSbfe65R-fce39NStHVqgAf-gYmZxM0eTXxIMoqvvelk6KMQOOd7lSoRTVQNgFEFdG2axrnA1TClhEev2_body4R_Cgp8o9Y7Y2DP1FCE17tpvtZgWUzfQf_FG0hTp0QcUWzBKWI5QjNqiB8hCU04NYek3oegD3I3B0d3LZCa9PjlC0X4oe_Oj-0NXGeXgAj9kx6-CsKWxblLY-vLB3dBYdVV1tQz94282ECtbV7W62PjZuuraxyrquXbq9rd-0wR2gfg0KuEGCK8QBa4MpzxGkTEhuMsKIwFwmLKNJgpREmolUcooNNUnGkebGMIozTUVKNZI8ZVQRxAUQkhOKCSVAeIo1ZyloChkYo1KW5ZIB5FJHBWkoy4UkgKUEhVQk50ZlgmmkhaE6TzBJOAhslNZIUC11RmSW6iSRFKe5iYMZdtPVoguF8_YJtFAK2vb_69vNHu1THP5u9iGWt88UXkzoPLlYfr0utqsgy7ur23y-1le3xs7Fuiq_5w9u-clceh0T3d1--XYnCYJ9ct9dnCbvlo_NdX-1OIiq5PeLtMtFrRa9vPmxvanseaF7VXwuF-iwuFx__JlcbFYP81PyPiayjdDa_w2BKZ0SMsUknbI81pTr6uD78Ua2m-GigggwAqv5wIlHMP7PRSW91XuY_P4D5hUVVg\"\\\\r\\\\n            style=\"font-family:\\\\\\'Motiva Sans\\\\\\', Helvetica, Arial, sans-serif; color: #000000; font-size: 11px; margin-bottom: 4px;\">\\\\r\\\\n            Click here.        </a>\\\\r\\\\n    </center>\\\\r\\\\n\\\\r\\\\n</body>\\\\r\\\\n</html>\\\\r\\\\n\\\\r\\\\n\\\\r\\\\n--np60f889aa7dd6c--\\\\r\\\\n\\''"
      ]
     },
     "execution_count": 111,
     "metadata": {},
     "output_type": "execute_result"
    }
   ],
   "source": [
    "b_str"
   ]
  },
  {
   "cell_type": "code",
   "execution_count": 112,
   "id": "incoming-massachusetts",
   "metadata": {},
   "outputs": [],
   "source": [
    "text_file = open(\"b.txt\", \"w\")\n",
    "n = text_file.write(b_str)"
   ]
  },
  {
   "cell_type": "code",
   "execution_count": 113,
   "id": "agricultural-small",
   "metadata": {},
   "outputs": [],
   "source": [
    "# email_message = email.message_from_bytes(b)"
   ]
  },
  {
   "cell_type": "code",
   "execution_count": 114,
   "id": "standing-atlantic",
   "metadata": {},
   "outputs": [],
   "source": [
    "# print(email_message)"
   ]
  },
  {
   "cell_type": "code",
   "execution_count": 115,
   "id": "shared-usage",
   "metadata": {},
   "outputs": [],
   "source": [
    "# text_file = open(\"b.txt\", \"w\")\n",
    "# n = text_file.write(str(email_message))"
   ]
  },
  {
   "cell_type": "code",
   "execution_count": 116,
   "id": "ongoing-effects",
   "metadata": {},
   "outputs": [],
   "source": [
    "# 4T35R"
   ]
  },
  {
   "cell_type": "code",
   "execution_count": 117,
   "id": "minus-perspective",
   "metadata": {},
   "outputs": [
    {
     "data": {
      "text/plain": [
       "str"
      ]
     },
     "execution_count": 117,
     "metadata": {},
     "output_type": "execute_result"
    }
   ],
   "source": [
    "type(b_str)"
   ]
  },
  {
   "cell_type": "code",
   "execution_count": 118,
   "id": "computational-bridge",
   "metadata": {},
   "outputs": [
    {
     "data": {
      "text/plain": [
       "4610"
      ]
     },
     "execution_count": 118,
     "metadata": {},
     "output_type": "execute_result"
    }
   ],
   "source": [
    "b_str.find('4T35R')"
   ]
  },
  {
   "cell_type": "code",
   "execution_count": 119,
   "id": "advised-electron",
   "metadata": {},
   "outputs": [],
   "source": [
    "b_split = b_str.split('4T35R')"
   ]
  },
  {
   "cell_type": "code",
   "execution_count": 120,
   "id": "decreased-metallic",
   "metadata": {},
   "outputs": [
    {
     "data": {
      "text/plain": [
       "3"
      ]
     },
     "execution_count": 120,
     "metadata": {},
     "output_type": "execute_result"
    }
   ],
   "source": [
    "len(b_split)"
   ]
  },
  {
   "cell_type": "code",
   "execution_count": 121,
   "id": "unlimited-country",
   "metadata": {},
   "outputs": [],
   "source": [
    "b_last = b_str.split('Here is the Steam Guard code you need to login to account kunforever16:')"
   ]
  },
  {
   "cell_type": "code",
   "execution_count": 122,
   "id": "existing-copying",
   "metadata": {},
   "outputs": [
    {
     "data": {
      "text/plain": [
       "3"
      ]
     },
     "execution_count": 122,
     "metadata": {},
     "output_type": "execute_result"
    }
   ],
   "source": [
    "len(b_last)"
   ]
  },
  {
   "cell_type": "code",
   "execution_count": 123,
   "id": "filled-death",
   "metadata": {},
   "outputs": [
    {
     "data": {
      "text/plain": [
       "'4T35R'"
      ]
     },
     "execution_count": 123,
     "metadata": {},
     "output_type": "execute_result"
    }
   ],
   "source": [
    "b_last[1][8:13]"
   ]
  },
  {
   "cell_type": "code",
   "execution_count": null,
   "id": "republican-portrait",
   "metadata": {},
   "outputs": [],
   "source": []
  }
 ],
 "metadata": {
  "kernelspec": {
   "display_name": "its",
   "language": "python",
   "name": "its"
  },
  "language_info": {
   "codemirror_mode": {
    "name": "ipython",
    "version": 3
   },
   "file_extension": ".py",
   "mimetype": "text/x-python",
   "name": "python",
   "nbconvert_exporter": "python",
   "pygments_lexer": "ipython3",
   "version": "3.8.5"
  }
 },
 "nbformat": 4,
 "nbformat_minor": 5
}
